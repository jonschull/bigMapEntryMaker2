{
 "cells": [
  {
   "cell_type": "code",
   "execution_count": 9,
   "id": "bc0a5f1b-1fb1-4f25-ae44-5f3fe5700345",
   "metadata": {},
   "outputs": [
    {
     "data": {
      "text/plain": [
       "'file:///Users/admin/Library/CloudStorage/Dropbox/BigMapRowEditor/summernote.html'"
      ]
     },
     "execution_count": 9,
     "metadata": {},
     "output_type": "execute_result"
    }
   ],
   "source": [
    "from pathlib import Path\n",
    "'file://'+str(Path('summernote.html').absolute())\n"
   ]
  },
  {
   "cell_type": "code",
   "execution_count": null,
   "id": "d286130a-5cbf-4b5f-b509-576a6b4625ba",
   "metadata": {},
   "outputs": [],
   "source": [
    "file:///Users/admin/Library/CloudStorage/Dropbox/BigMapEntryMaker2/summernote.html"
   ]
  }
 ],
 "metadata": {
  "kernelspec": {
   "display_name": "Python 3 (ipykernel)",
   "language": "python",
   "name": "python3"
  },
  "language_info": {
   "codemirror_mode": {
    "name": "ipython",
    "version": 3
   },
   "file_extension": ".py",
   "mimetype": "text/x-python",
   "name": "python",
   "nbconvert_exporter": "python",
   "pygments_lexer": "ipython3",
   "version": "3.9.15"
  },
  "widgets": {
   "application/vnd.jupyter.widget-state+json": {
    "state": {},
    "version_major": 2,
    "version_minor": 0
   }
  }
 },
 "nbformat": 4,
 "nbformat_minor": 5
}
