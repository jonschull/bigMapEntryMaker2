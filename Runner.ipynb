{
 "cells": [
  {
   "cell_type": "code",
   "execution_count": 1,
   "id": "4af70e23-4c6a-44ef-8ea5-3235614cbd76",
   "metadata": {},
   "outputs": [
    {
     "name": "stdout",
     "output_type": "stream",
     "text": [
      "version Monday 23 Jan 2023 8:35\n"
     ]
    },
    {
     "data": {
      "application/vnd.jupyter.widget-view+json": {
       "model_id": "ab3b3aba352f491087e83dfcf4db3844",
       "version_major": 2,
       "version_minor": 0
      },
      "text/plain": [
       "HBox(children=(FileUpload(value=(), accept='image/*', description='New Image to Cloudinary?', layout=Layout(wi…"
      ]
     },
     "metadata": {},
     "output_type": "display_data"
    },
    {
     "data": {
      "application/vnd.jupyter.widget-view+json": {
       "model_id": "942712c8172b4e5693b3d2ce8bb0f68f",
       "version_major": 2,
       "version_minor": 0
      },
      "text/plain": [
       "HBox(children=(Button(description='Store', style=ButtonStyle(button_color='lightyellow')), Button(description=…"
      ]
     },
     "metadata": {},
     "output_type": "display_data"
    },
    {
     "data": {
      "application/vnd.jupyter.widget-view+json": {
       "model_id": "96a36f2d3efd48d087cc39cbe11a1306",
       "version_major": 2,
       "version_minor": 0
      },
      "text/plain": [
       "HBox(children=(HBox(children=(Button(description='-', layout=Layout(width='10%'), style=ButtonStyle()), Bounde…"
      ]
     },
     "metadata": {},
     "output_type": "display_data"
    },
    {
     "data": {
      "application/vnd.jupyter.widget-view+json": {
       "model_id": "3dd44ad10bc440b3995872118c1b9f5b",
       "version_major": 2,
       "version_minor": 0
      },
      "text/plain": [
       "Textarea(value='', layout=Layout(width='100%'))"
      ]
     },
     "metadata": {},
     "output_type": "display_data"
    },
    {
     "data": {
      "application/vnd.jupyter.widget-view+json": {
       "model_id": "00fbbbd55d6d4e2e80d14ed2eb357c71",
       "version_major": 2,
       "version_minor": 0
      },
      "text/plain": [
       "HBox(children=(VBox(children=(Text(value='Australia:Natural Sequence Farming', description='Project Name'), Te…"
      ]
     },
     "metadata": {},
     "output_type": "display_data"
    }
   ],
   "source": [
    "import RowEditor2"
   ]
  },
  {
   "cell_type": "code",
   "execution_count": null,
   "id": "19362261-ccea-4b3b-8a4c-f506fd360c94",
   "metadata": {},
   "outputs": [],
   "source": []
  }
 ],
 "metadata": {
  "kernelspec": {
   "display_name": "Python 3 (ipykernel)",
   "language": "python",
   "name": "python3"
  },
  "language_info": {
   "codemirror_mode": {
    "name": "ipython",
    "version": 3
   },
   "file_extension": ".py",
   "mimetype": "text/x-python",
   "name": "python",
   "nbconvert_exporter": "python",
   "pygments_lexer": "ipython3",
   "version": "3.8.15"
  },
  "widgets": {
   "application/vnd.jupyter.widget-state+json": {
    "state": {
     "0196feb761194bd494f115466ddb42b6": {
      "model_module": "@jupyter-widgets/controls",
      "model_module_version": "2.0.0",
      "model_name": "TextStyleModel",
      "state": {
       "description_width": "",
       "font_size": null,
       "text_color": null
      }
     },
     "031d3392930c412fa519249e488fbada": {
      "model_module": "@jupyter-widgets/base",
      "model_module_version": "2.0.0",
      "model_name": "LayoutModel",
      "state": {}
     },
     "09b9a8c15840451ea0c5fdaf0397e820": {
      "model_module": "@jupyter-widgets/controls",
      "model_module_version": "2.0.0",
      "model_name": "HBoxModel",
      "state": {
       "children": [
        "IPY_MODEL_5da70f0e339d426a8d66bd19d46f6332",
        "IPY_MODEL_c71ae08d12344cd99c287549bd5a9c24",
        "IPY_MODEL_ec4cc56047314decbbce906065d71fbc"
       ],
       "layout": "IPY_MODEL_c2c7dfaaca6b4af98fccf005a2cf6400"
      }
     },
     "0a0b11da54f2486e90de7928b1a28647": {
      "model_module": "@jupyter-widgets/controls",
      "model_module_version": "2.0.0",
      "model_name": "TextStyleModel",
      "state": {
       "background": "lightblue",
       "description_width": "",
       "font_size": null,
       "text_color": null
      }
     },
     "0ae9335d1a6944e1985ad51d8bc0f2d9": {
      "model_module": "@jupyter-widgets/controls",
      "model_module_version": "2.0.0",
      "model_name": "TextStyleModel",
      "state": {
       "description_width": "",
       "font_size": null,
       "text_color": null
      }
     },
     "0bf91f7ae5254e908f09fec685ab0207": {
      "model_module": "@jupyter-widgets/controls",
      "model_module_version": "2.0.0",
      "model_name": "TextStyleModel",
      "state": {
       "description_width": "",
       "font_size": null,
       "text_color": null
      }
     },
     "0c96084d56774770a31364910f8ae7e0": {
      "model_module": "@jupyter-widgets/controls",
      "model_module_version": "2.0.0",
      "model_name": "TextModel",
      "state": {
       "description": "Active restorer?",
       "layout": "IPY_MODEL_9d0524c98fa1437b8cc2fc1fba72ca48",
       "style": "IPY_MODEL_0bf91f7ae5254e908f09fec685ab0207",
       "value": "TRUE"
      }
     },
     "0d23e14ba8994a158940e0c60daefdc7": {
      "model_module": "@jupyter-widgets/controls",
      "model_module_version": "2.0.0",
      "model_name": "TextModel",
      "state": {
       "description": "ERA",
       "layout": "IPY_MODEL_a81da39e605c4759b13c30a635db3f1e",
       "style": "IPY_MODEL_78c898eceb68430ba6004d9003619034"
      }
     },
     "1112a8a7b93e45ac9abaafdc819cbf57": {
      "model_module": "@jupyter-widgets/base",
      "model_module_version": "2.0.0",
      "model_name": "LayoutModel",
      "state": {
       "width": "100%"
      }
     },
     "11fb10ac903f4c5e8a387b5cb2fe7e4f": {
      "model_module": "@jupyter-widgets/controls",
      "model_module_version": "2.0.0",
      "model_name": "ButtonStyleModel",
      "state": {
       "font_family": null,
       "font_size": null,
       "font_style": null,
       "font_variant": null,
       "font_weight": null,
       "text_color": null,
       "text_decoration": null
      }
     },
     "11fbb8223b604a73ad569cb4f9b62423": {
      "model_module": "@jupyter-widgets/controls",
      "model_module_version": "2.0.0",
      "model_name": "TextStyleModel",
      "state": {
       "description_width": "",
       "font_size": null,
       "text_color": null
      }
     },
     "12d4ec7b0241418f9554cb9d322995c1": {
      "model_module": "@jupyter-widgets/controls",
      "model_module_version": "2.0.0",
      "model_name": "TextModel",
      "state": {
       "description": "x2",
       "layout": "IPY_MODEL_881059aecf78442382297d2ad5655bee",
       "style": "IPY_MODEL_e9b6ac8cf7a24e4d8daed47d6f1f58fd",
       "value": "150.2027207"
      }
     },
     "148e1aebbfb045ada813b159e40924e7": {
      "model_module": "@jupyter-widgets/controls",
      "model_module_version": "2.0.0",
      "model_name": "TextStyleModel",
      "state": {
       "description_width": "",
       "font_size": null,
       "text_color": null
      }
     },
     "1493413e048f4e638d6f354a3d6b77f0": {
      "model_module": "@jupyter-widgets/controls",
      "model_module_version": "2.0.0",
      "model_name": "VBoxModel",
      "state": {
       "children": [
        "IPY_MODEL_f1e8a593b5f24c3eb27d10a04938ca9a"
       ],
       "layout": "IPY_MODEL_df98ff56fa0848a69d99796fd8c5e9a9"
      }
     },
     "1537c597c9f0424aa7ec9de5fcc73397": {
      "model_module": "@jupyter-widgets/controls",
      "model_module_version": "2.0.0",
      "model_name": "TextModel",
      "state": {
       "description": "Description",
       "disabled": true,
       "layout": "IPY_MODEL_532fe921601048298530aa4ec08b25c8",
       "style": "IPY_MODEL_25c94fde86194ac2bfe58e67ab8710c6",
       "value": "\n[('San Francisco', '37.7790262', '-122.419906'),\n ('San Francisco', '37.7790262', '-122.419906'),\n ('Alphabet', '37.3398646', '-121.8844823'),\n ('the United States', '29.6330078', '-97.98859404468138'),\n ('Slack', '53.6537065', '-1.876206'),\n ('East Palo Alto', '37.4688273', '-122.141075'),\n ('Calif.', '36.7014631', '-118.755997')]"
      }
     },
     "173179630d904226ae6a916474ed4ca8": {
      "model_module": "@jupyter-widgets/controls",
      "model_module_version": "2.0.0",
      "model_name": "TextModel",
      "state": {
       "description": "a",
       "layout": "IPY_MODEL_213c6fa5750449b2bb3007bdb5495380",
       "style": "IPY_MODEL_11fbb8223b604a73ad569cb4f9b62423",
       "value": "one"
      }
     },
     "1a79891e3b8f4194a8fff97804303ec9": {
      "model_module": "@jupyter-widgets/controls",
      "model_module_version": "2.0.0",
      "model_name": "TextStyleModel",
      "state": {
       "description_width": "",
       "font_size": null,
       "text_color": null
      }
     },
     "1d056ee372054e03995222817d74e03b": {
      "model_module": "@jupyter-widgets/controls",
      "model_module_version": "2.0.0",
      "model_name": "TextModel",
      "state": {
       "description": "Updated Location",
       "layout": "IPY_MODEL_890ce9cf2e2143a1a06ca50110abe7db",
       "style": "IPY_MODEL_3b475b9eac964c6bba6b4826be7293c2"
      }
     },
     "1ef4bfa05c5849f0b775ae2e30edf231": {
      "model_module": "@jupyter-widgets/base",
      "model_module_version": "2.0.0",
      "model_name": "LayoutModel",
      "state": {}
     },
     "1f651bc5943b4f88a0a8bdd0df5ba8af": {
      "model_module": "@jupyter-widgets/controls",
      "model_module_version": "2.0.0",
      "model_name": "TextModel",
      "state": {
       "description": "y2",
       "layout": "IPY_MODEL_031d3392930c412fa519249e488fbada",
       "style": "IPY_MODEL_683c76e6770e4149b162fe17a8c07f4d",
       "value": "-35.7368662"
      }
     },
     "213c6fa5750449b2bb3007bdb5495380": {
      "model_module": "@jupyter-widgets/base",
      "model_module_version": "2.0.0",
      "model_name": "LayoutModel",
      "state": {}
     },
     "214394af7e4140b490fcae67ce5c3284": {
      "model_module": "@jupyter-widgets/controls",
      "model_module_version": "2.0.0",
      "model_name": "ButtonStyleModel",
      "state": {
       "font_family": null,
       "font_size": null,
       "font_style": null,
       "font_variant": null,
       "font_weight": null,
       "text_color": null,
       "text_decoration": null
      }
     },
     "21c0cb1c75b042f1bc64fe2550a859dc": {
      "model_module": "@jupyter-widgets/base",
      "model_module_version": "2.0.0",
      "model_name": "LayoutModel",
      "state": {}
     },
     "25c94fde86194ac2bfe58e67ab8710c6": {
      "model_module": "@jupyter-widgets/controls",
      "model_module_version": "2.0.0",
      "model_name": "TextStyleModel",
      "state": {
       "background": "yellow",
       "description_width": "",
       "font_size": null,
       "text_color": null
      }
     },
     "291f1ab54159414da1986bc9de428805": {
      "model_module": "@jupyter-widgets/controls",
      "model_module_version": "2.0.0",
      "model_name": "ButtonStyleModel",
      "state": {
       "button_color": "lightyellow",
       "font_family": null,
       "font_size": null,
       "font_style": null,
       "font_variant": null,
       "font_weight": null,
       "text_color": null,
       "text_decoration": null
      }
     },
     "2a2d90f549cf4071ac7861f95e3ddc12": {
      "model_module": "@jupyter-widgets/base",
      "model_module_version": "2.0.0",
      "model_name": "LayoutModel",
      "state": {}
     },
     "2ab9c3767f1f49829bd7238e8a887915": {
      "model_module": "@jupyter-widgets/base",
      "model_module_version": "2.0.0",
      "model_name": "LayoutModel",
      "state": {}
     },
     "2be9f72e125449a99fc903f54d4f432b": {
      "model_module": "@jupyter-widgets/controls",
      "model_module_version": "2.0.0",
      "model_name": "TextModel",
      "state": {
       "description": "Thumbnails",
       "layout": "IPY_MODEL_b51e31b2655f4e2a846a5de5bfb4c59f",
       "style": "IPY_MODEL_4302fe90bc27476794afd90b27727f86",
       "value": "http://res.cloudinary.com/e-nable-org/image/upload/v1673370279/Australia:Natural_Sequence_FarmingThumbnails.jpg"
      }
     },
     "2d00231b391446a9ad2b2810a6c49118": {
      "model_module": "@jupyter-widgets/base",
      "model_module_version": "2.0.0",
      "model_name": "LayoutModel",
      "state": {}
     },
     "2de5338c3223449fb1d874b98e1fa9d3": {
      "model_module": "@jupyter-widgets/output",
      "model_module_version": "1.0.0",
      "model_name": "OutputModel",
      "state": {
       "layout": "IPY_MODEL_51b01118ad4c4327b2762db90f120db7"
      }
     },
     "332ea40743884627ba734c891cdd0f6f": {
      "model_module": "@jupyter-widgets/controls",
      "model_module_version": "2.0.0",
      "model_name": "TextModel",
      "state": {
       "description": "Phone",
       "layout": "IPY_MODEL_86390b4965714a85b3958b05ba2d8471",
       "style": "IPY_MODEL_148e1aebbfb045ada813b159e40924e7"
      }
     },
     "335f8bd3d02f4936b8cff3f13f8a8edd": {
      "model_module": "@jupyter-widgets/controls",
      "model_module_version": "2.0.0",
      "model_name": "TextModel",
      "state": {
       "description": "Location",
       "layout": "IPY_MODEL_809d7307f80f42ce9130d085b28072d2",
       "style": "IPY_MODEL_5f85c8b632234d4fa4e67bc0740c3ca5",
       "value": "Batehaven, New South Whales, Australia"
      }
     },
     "3439c0adb05e4126b76be27e67866366": {
      "model_module": "@jupyter-widgets/controls",
      "model_module_version": "2.0.0",
      "model_name": "DescriptionStyleModel",
      "state": {
       "description_width": ""
      }
     },
     "3675ccceb686410b818ed591210522a8": {
      "model_module": "@jupyter-widgets/base",
      "model_module_version": "2.0.0",
      "model_name": "LayoutModel",
      "state": {}
     },
     "36878bab332d46dc85c7b38a79d7be07": {
      "model_module": "@jupyter-widgets/controls",
      "model_module_version": "2.0.0",
      "model_name": "TextModel",
      "state": {
       "description": "Regen.earth",
       "layout": "IPY_MODEL_6d6ce535544a42d8ba5f657b11b84749",
       "style": "IPY_MODEL_ff48c123ed2649bfb6fdd2992b8be7eb"
      }
     },
     "39fa3bf802054d0384d0f176ddcc9346": {
      "model_module": "@jupyter-widgets/base",
      "model_module_version": "2.0.0",
      "model_name": "LayoutModel",
      "state": {}
     },
     "3b475b9eac964c6bba6b4826be7293c2": {
      "model_module": "@jupyter-widgets/controls",
      "model_module_version": "2.0.0",
      "model_name": "TextStyleModel",
      "state": {
       "description_width": "",
       "font_size": null,
       "text_color": null
      }
     },
     "3bcb4183a4dc4e02b9445511589ffe1e": {
      "model_module": "@jupyter-widgets/controls",
      "model_module_version": "2.0.0",
      "model_name": "TextModel",
      "state": {
       "description": "Picture",
       "layout": "IPY_MODEL_3675ccceb686410b818ed591210522a8",
       "style": "IPY_MODEL_e7494ec284034396800b72cacb47c399",
       "value": "http://res.cloudinary.com/e-nable-org/image/upload/v1673370280/Australia:Natural_Sequence_FarmingPicture.jpg"
      }
     },
     "3cbaced575c14ab8a8043880c5852466": {
      "model_module": "@jupyter-widgets/controls",
      "model_module_version": "2.0.0",
      "model_name": "TextStyleModel",
      "state": {
       "description_width": "",
       "font_size": null,
       "text_color": null
      }
     },
     "3d44fd0e0de1429ebb00915393f97ebd": {
      "model_module": "@jupyter-widgets/controls",
      "model_module_version": "2.0.0",
      "model_name": "TextStyleModel",
      "state": {
       "description_width": "",
       "font_size": null,
       "text_color": null
      }
     },
     "3de67aeb97fe4063bb3a3959d76f7a33": {
      "model_module": "@jupyter-widgets/controls",
      "model_module_version": "2.0.0",
      "model_name": "TextModel",
      "state": {
       "description": "Latitude",
       "layout": "IPY_MODEL_9a4554f03cd741f8b83baf354c700779",
       "style": "IPY_MODEL_db1fd04b57ec42b88c28183469732ad5",
       "value": "-35.7369"
      }
     },
     "3e3e5c20976145e5bd4798bd6166ff5d": {
      "model_module": "@jupyter-widgets/base",
      "model_module_version": "2.0.0",
      "model_name": "LayoutModel",
      "state": {
       "height": "1000px",
       "width": "20%"
      }
     },
     "3f8d7fdf346d43dbb994342e3285c25f": {
      "model_module": "@jupyter-widgets/controls",
      "model_module_version": "2.0.0",
      "model_name": "TextareaModel",
      "state": {
       "layout": "IPY_MODEL_fbc35682fd9d462ab42546073b387f93",
       "style": "IPY_MODEL_5ff9a8f46ca44b74bbb41b536593eaea",
       "value": "\n[('San Francisco', '37.7790262', '-122.419906'),\n ('San Francisco', '37.7790262', '-122.419906'),\n ('Alphabet', '37.3398646', '-121.8844823'),\n ('the United States', '29.6330078', '-97.98859404468138'),\n ('Slack', '53.6537065', '-1.876206'),\n ('East Palo Alto', '37.4688273', '-122.141075'),\n ('Calif.', '36.7014631', '-118.755997')]"
      }
     },
     "4096158a985f4b73ac38fd7a67a6b4c6": {
      "model_module": "@jupyter-widgets/controls",
      "model_module_version": "2.0.0",
      "model_name": "ButtonModel",
      "state": {
       "description": "Store",
       "layout": "IPY_MODEL_60afc8ac38144fef84e221d6668a5e56",
       "style": "IPY_MODEL_ab3881ddae6a49188272472f17d13983",
       "tooltip": null
      }
     },
     "41be1a22c30c4bae992058b695fb7713": {
      "model_module": "@jupyter-widgets/base",
      "model_module_version": "2.0.0",
      "model_name": "LayoutModel",
      "state": {}
     },
     "426e5a24e18a42d388c33c733cef2e78": {
      "model_module": "@jupyter-widgets/controls",
      "model_module_version": "2.0.0",
      "model_name": "TextModel",
      "state": {
       "description": "Comments",
       "layout": "IPY_MODEL_fd1e01e04fde430191ae3c95dd8e463c",
       "style": "IPY_MODEL_92d933af96234615ab76123f0f8a98ea"
      }
     },
     "4302fe90bc27476794afd90b27727f86": {
      "model_module": "@jupyter-widgets/controls",
      "model_module_version": "2.0.0",
      "model_name": "TextStyleModel",
      "state": {
       "description_width": "",
       "font_size": null,
       "text_color": null
      }
     },
     "46018ef2a7e2406d8f7168faa1893ced": {
      "model_module": "@jupyter-widgets/base",
      "model_module_version": "2.0.0",
      "model_name": "LayoutModel",
      "state": {}
     },
     "46e57573716647fb8c1a1709c51a5758": {
      "model_module": "@jupyter-widgets/controls",
      "model_module_version": "2.0.0",
      "model_name": "TextStyleModel",
      "state": {
       "description_width": "",
       "font_size": null,
       "text_color": null
      }
     },
     "4837a4b9f1e146b683379bae4fecda53": {
      "model_module": "@jupyter-widgets/controls",
      "model_module_version": "2.0.0",
      "model_name": "TextStyleModel",
      "state": {
       "description_width": "",
       "font_size": null,
       "text_color": null
      }
     },
     "4b6d4aa522b44d4b981392fe827a4491": {
      "model_module": "@jupyter-widgets/controls",
      "model_module_version": "2.0.0",
      "model_name": "HBoxModel",
      "state": {
       "children": [
        "IPY_MODEL_a52bdd2c17b74e9a82c55a43a67bf063",
        "IPY_MODEL_3f8d7fdf346d43dbb994342e3285c25f",
        "IPY_MODEL_e97909ebe121490bb820471a486ddff4"
       ],
       "layout": "IPY_MODEL_7702f3bb69904124b9e6cb718ecfb7d2"
      }
     },
     "4bada52f3a6e4f5593cd5521e02905e3": {
      "model_module": "@jupyter-widgets/output",
      "model_module_version": "1.0.0",
      "model_name": "OutputModel",
      "state": {
       "layout": "IPY_MODEL_21c0cb1c75b042f1bc64fe2550a859dc",
       "outputs": [
        {
         "name": "stdout",
         "output_type": "stream",
         "text": "updateHTML {'name': '_property_lock', 'old': {}, 'new': {'value': \"\\n[('San Francisco', '37.7790262', '-122.419906'),\\n ('San Francisco', '37.7790262', '-122.419906'),\\n ('Alphabet', '37.3398646', '-121.8844823'),\\n ('the United States', '29.6330078', '-97.98859404468138'),\\n ('Slack', '53.6537065', '-1.876206'),\\n ('East Palo Alto', '37.4688273', '-122.141075'),\\n ('Calif.', '36.7014631', '-118.755997')]\"}, 'owner': Textarea(value='Natural sequences that can be harnessed by informed management include the movement of grazing animals, birds and insects from valley floors by day to higher levels on the valley sides at night and the transfer of fertility with them. There is a gradual movement of nutrients and seeds back down the valley sides via the water cycle, vegetation and soil processes, constantly refurbishing the fertility of the landscape.\\n\\nIn the process, various plants collect specific substances and the plant communities change in predictable sequences. As part of the biodiversity of a property and catchment, these plants are also a part of multiple food chains and a key to enhancing fertility.\\n\\nNutrients contained in soil or water are mobile and can be quickly lost off-site. Nutrients contained in biodiverse living bodies are stable. NSF management keeps natural functions connected which allows for quick exchange and conversion of nutrients within ecosystems on properties.\\n\\nPeter Andrews has found that even plants labeled as weeds can serve as pioneering species in inhibiting nutrient and soil erosion. They collect and supply essential substances for environmental health. Once slashed, fertility is built up and the weeds are replaced naturally by palatable grasses. To maximize production and conservation results requires a good understanding of interaction of the roles of clays and sands in the process.\\n\\nThis process is complemented by NSF property management when the initial erosion and fertility stabilising need has been met. The once degraded soils are then able to contribute to increased water use efficiency and optimal production levels through their increased organic content.\\n\\nAreas such as floodplains, that collect large amounts of nutrients, can be harvested to redistribute some of the fertility. Like the daily migration of birds and animals, downpours flushing streams to a floodplain are a sequence in the periodic fertilisation and harvest cycle.\\n\\nIn this process, surface running water dissolves natural substances and collects sediments, algae, microbes and plant residues from all parts of the catchment. Re-connecting running water to the stepped land formation of the chain of ponds that used to dominate traditional Australian landscapes, slows water flow. This enhances the ability of growing plants, coupled with decreasing inclines, soils and sands, to filter the water feeding into streams running along the valley floor. This process, in turn, feeds plant roots from the sub-surface and caps saline groundwater from surrounding slopes by perching a freshwater lens above saline layers.\\n\\nAll substances are functional in this naturally managed environment. Salts managed as saline groundwater, where evaporation is excluded from concentrating and crystallizing the substances, allow plant, animal and water ecosystems to balance salinity in the landscape as a natural function. In this way a hillslope pasture or floodplain water meadow is re-created.\\n\\nOn the floodplain, hydrostatic pressure is maintained on the heavier lower saline layers though maintaining high freshwater tables in the perched chain of ponds. At the same time, the stream replenishes the floodplain and its meadows, through lateral transfer to the freshwater table just below the surface.\\n\\nThe floodplain is convex. The perched stream runs along the higher elevation or apex and the billabongs and backswamps are at the lower positions on the perimeter of the floodplain where it meets the valley sides. This shape is created by the natural flow of the stream and reinforced by heavier sediment being deposited on and near the stream-bed in flood.\\n\\n\\nA farming system founded on working with nature\\n\\nIn many regions of Australia, floodplains are disconnected from creeks and rivers and natural flow regimes. This leaves them unable to store water to support productive farming and the growth of riparian vegetation.\\n\\nMany of today’s floodplains are incised with deeply scoured gullies and gorges. These are channels that expedite the swift flowing removal of much of the land’s fertility and the carriage of increasing amounts of salt. The soil and its nutrients are highly susceptible to leaching and erosion owing to the application of inappropriate agricultural and pastoral practices creating depleted soils and vegetation cover.\\n\\nNSF takes a holistic approach to natural resource management by re-establishing the stream’s connection to the surrounding landscape and restoring floodplains as ‘sponges’. Although most landscapes have unique qualities, the principles of landform and management are the same. The physics remains constant.\\n\\nPeter Andrews’ interpretation of the landscape accepts that, pre-European settlement, the soil’s natural salt content was kept in check by slow sub-soil movements of fresh water.\\n\\nUnder natural systems that are replicated by NSF, movement of fresh water is by surface and sub-surface flows. The surface flow is by the stream which is perched at the highest level of the floodplain on an accumulation of sediment. Surface water is buffered at each narrowed step position in the chain of ponds. Under NSF, this is achieved by a naturalised ‘leaky weir’ of rocks, sediment, trees, branches, reeds and grass roots mimicking the original natural slowing impediments to flows.\\n\\nIn floodplains in their pristine form, water is stepped slowly down the stream valley floor from one end of a catchment to the other. The stream valley floor is segmented with steps. These steps are where a new floodplain starts and the up-stream one finishes, and below which, large reed beds form on recharge areas.\\n\\nThe floodplains are soil, vegetation and water-filled ponds, forming links in a chain as they progress through each step down the valley. They are joined at each step where the valley sides narrow. Stream water travels through each linked floodplain as a sequence in the stream valley. The stream meanders over each sequence. It covers the floodplain with sediments as it steadily descends the valley. Each floodplain has stream meanders, pools and riffles as well as wetland and water meadow filters.\\n\\nWhere an incised stream bed exists, during low to medium stream flows, the sides of the stream are contained by levee banks built up by flood deposits. The banks are protected from severe erosion by wetland plants such as phragmites, other natural grasses, and streamside trees and shrubs, which have colonised the area.\\n\\nAt the same time, hydrostatic pressure from the perched water table in the stream prevents the lateral intrusion of salinity from the floodplain even in low flow periods.\\n\\nTo recreate the chain of ponds effect, NSF uses small secondary diversion channels to reconnect streams to their floodplains. These channels braid out through the lush meadows to the edges of the floodplain and water then returns to the main stream through surface and sub-surface flows. They pick up peak flows that are diverted by the leaky weirs which maintain normal base flow to downstream properties.\\n\\nDuring high flows, as water spreads across the floodplain in the braided diversion channels, some water is absorbed through sandy intake beds, recharging the groundwater lens above saline layers and just below the plant root systems.\\n\\nAnother portion of the surface water is carried in the channels towards historic floodplain terraces on the edge of the floodplain to refresh hollows and billabongs, facilitating fish passage in the process.\\n\\nDuring flood events, the reed buffers along the stream sides and at the narrow ends, where each pond is joined in the chain, lay down to laminate the ground surface with their protective mat but are ready to grow upright again when the flows have subsided.\\n\\nThe hydrostatic pressure of water in the topped-up meadow and billabong storages on the floodplain prevents the plants on the floodplain from ‘drowning’ in the short interval when the water is at a high level. This process can mitigate the impacts of salt ‘slugs’ that may have been scoured from saline deposits in uplands.\\n\\nThe stream water that is impounded in the recharged groundwater lens within the floodplain soils also provides a buffer against drought. There can be a period of several years of thriving plant growth before the water is fully transpired and the soil, which is heavily shaded by extensive vegetation cover, dries out. In normal years recharge from flooding would arrive earlier to restore the groundwater.\\n\\nAs part of NSF management, the farmer can divert flows between channels to dry out a meadow area for harvest while starting to produce increased growth in a new zone of the floodplain.\\n\\n\\nMaximum natural outcomes with minimum financial and manufactured inputs\\n\\nPeter Andrews’ NSF concepts are being applied at project sites as diverse as those featuring upland fast-flowing water courses, to broadacre cropping areas, dry gullies, and salt encrusted degraded lands as well as broad stream valleys and wetlands. Where human-induced impediments to natural growth and production are gradually replaced by the system built around the natural sequences of plants, animals, water and soils, properties have a solid foundation for increased profitability and long term sustainability. Industry analysts have been particularly attracted by the lush growth produced during drought conditions under Peter Andrews’ system.\\n\\nUnder NSF, natural water flows are reintroduced to alluvial soil plains. In many ways natural alluvial soil floodplains form the whole waterway down the valley whether through surface or sub-surface flow. In contrast, irrigation is the artificial application of water to the land. Invariably, the source of the irrigation water is from artificial storages and highly moderated streams with incised and eroded channels. These have generally been created by past poor environmental practices such as the removal of ground cover.\\n\\nOwing to its base of natural processes, NSF achieves more sustainable outcomes than traditional pipe and pump irrigation systems as it does not incur large financial costs or create long-term environmental degradation, loss of biodiversity and increasing salinity, as often occurs catchments with highly regulated stream regimes. NSF employs few imported or manufactured inputs such as pesticides, herbicides and artificial fertilisers. In terms of financial capital and operating inputs, it is not an expensive system to introduce and it brings Greenhouse gas benefits through increasing carbon levels in the landscape.\\n\\nThe investment required is in training for the landholder to interpret the natural processes of the landscape and time spent by the farmer in ‘reading the country’ and applying the NSF principles to the particular property and landscape features of their region. It is no surprise to find that Peter Andrews grew up on a property near Broken Hill area and spent much time with his stockman father and members of the Aboriginal community learning to read country.\\n\\nIn most cases, Peter Andrews finds that resources available on-site only require intelligent redistribution for natural processes to work in favour of productivity and a reversal of human-induced environmental imbalance and degradation, as most of the naturally developed ‘infrastructure’ is still there.\\n\\nIn working with nature, NSF requires very low maintenance inputs. Where outside inputs are employed on a farm they can be targeted. Small amounts can be applied to specific areas or species where the system is temporarily out of balance owing, in most cases, to factors outside the property boundaries. NSF harmonises modern technology with natural plant progressions to achieve a resilient model of farming.\\n\\nWhere neighbouring landholders in a sub-catchment adopt NSF, even more rapid progress to increased profitability and environmental sustainability can be achieved, as NSF adopts a whole-of-catchment approach to farming.\\n\\n\\nNSF applied to Grazing\\n\\nUnder NSF, many forms of grazing are appropriate if a vigorous perennial plant community can be maintained. If c ell-grazing methods are used, especially across valley segments from ridge to ridge, protection of the riparian zone needs to be considered. Over the medium to long term, weed control, nutrient balances and pest management can be managed by using Natural Sequence Farming methods.\\n\\nThe improved groundcover and reduced cultivation under NSF not only minimises farm costs but also reduces erosion, avoids soil compaction and maintains a soil structure with increased water holding capacity.\\n\\nThe use of water balances within NSF, brings the most increases in productivity and sustainability. Costs are also minimised, as water storage is in the groundwater lens rather than expensive above-ground dams, prone to siltation and with high evaporation rates when the water is needed most. Pasture is fed naturally from the roots rather than requiring extensive capital investments in pumps, pipes, irrigation gantries or feeder networks.\\n\\nTraditional livestock husbandry methods can be complementary to Natural Sequence Farming. Under NSF, livestock are considered as a major tool in land management, including for transferring fertility and controlling weeds. However, feedlot methods of production and other methods of confining herds or flocks need to be well-sited in the catchment to utilise self-removal and self-collection of residues for fertility management.\\n\\nOnce the initial phase of re-establishment to natural sequences is well on the way, which in most cases only takes one or two years with low cost inputs, monitoring and the application of NSF principles in harmony with Nature achieves continuing sustainable production.\\n\\n\\n NSF applied to Agriculture\\n\\nUnder NSF, cropping is best suited to methods complementary to retaining significant areas of season-specific perennial pastures. If needed, cultivation may be confined to soils on valley slopes rather than floodplains but it can be worth exploring direct-drill minimum-till broadcast methods first.\\n\\nHorticulture can be sited off flood plain areas, with careful transfer of valley floor fertility and water within the NSF system.\\n\\nNSF harmonises well with organic approaches to producing premium farm produce for a growing domestic and export market. Increasing numbers of consumers and vendors are demanding products produced with environmentally sustainable systems coupled with farm accreditation and certified produce before acceptance.\\n\\nThe use of outside inputs or recycling farm produce on the property can be part of managed fertility transfer, both on the farm and in the sub-catchment. For instance, hay making of legume-rich pasture can be rotated around various areas of a property to work in with weed reduction needs and fertility management.\\n\\nIrrigation is best-sited on valley floors although most areas managed with NSF require minimum supplementation of water transfers already naturally occurring on and beneath the floodplain.', layout=Layout(height='1000px', width='40%')), 'type': 'change'}\nupdateHTML {'name': 'value', 'old': 'Natural sequences that can be harnessed by informed management include the movement of grazing animals, birds and insects from valley floors by day to higher levels on the valley sides at night and the transfer of fertility with them. There is a gradual movement of nutrients and seeds back down the valley sides via the water cycle, vegetation and soil processes, constantly refurbishing the fertility of the landscape.\\n\\nIn the process, various plants collect specific substances and the plant communities change in predictable sequences. As part of the biodiversity of a property and catchment, these plants are also a part of multiple food chains and a key to enhancing fertility.\\n\\nNutrients contained in soil or water are mobile and can be quickly lost off-site. Nutrients contained in biodiverse living bodies are stable. NSF management keeps natural functions connected which allows for quick exchange and conversion of nutrients within ecosystems on properties.\\n\\nPeter Andrews has found that even plants labeled as weeds can serve as pioneering species in inhibiting nutrient and soil erosion. They collect and supply essential substances for environmental health. Once slashed, fertility is built up and the weeds are replaced naturally by palatable grasses. To maximize production and conservation results requires a good understanding of interaction of the roles of clays and sands in the process.\\n\\nThis process is complemented by NSF property management when the initial erosion and fertility stabilising need has been met. The once degraded soils are then able to contribute to increased water use efficiency and optimal production levels through their increased organic content.\\n\\nAreas such as floodplains, that collect large amounts of nutrients, can be harvested to redistribute some of the fertility. Like the daily migration of birds and animals, downpours flushing streams to a floodplain are a sequence in the periodic fertilisation and harvest cycle.\\n\\nIn this process, surface running water dissolves natural substances and collects sediments, algae, microbes and plant residues from all parts of the catchment. Re-connecting running water to the stepped land formation of the chain of ponds that used to dominate traditional Australian landscapes, slows water flow. This enhances the ability of growing plants, coupled with decreasing inclines, soils and sands, to filter the water feeding into streams running along the valley floor. This process, in turn, feeds plant roots from the sub-surface and caps saline groundwater from surrounding slopes by perching a freshwater lens above saline layers.\\n\\nAll substances are functional in this naturally managed environment. Salts managed as saline groundwater, where evaporation is excluded from concentrating and crystallizing the substances, allow plant, animal and water ecosystems to balance salinity in the landscape as a natural function. In this way a hillslope pasture or floodplain water meadow is re-created.\\n\\nOn the floodplain, hydrostatic pressure is maintained on the heavier lower saline layers though maintaining high freshwater tables in the perched chain of ponds. At the same time, the stream replenishes the floodplain and its meadows, through lateral transfer to the freshwater table just below the surface.\\n\\nThe floodplain is convex. The perched stream runs along the higher elevation or apex and the billabongs and backswamps are at the lower positions on the perimeter of the floodplain where it meets the valley sides. This shape is created by the natural flow of the stream and reinforced by heavier sediment being deposited on and near the stream-bed in flood.\\n\\n\\nA farming system founded on working with nature\\n\\nIn many regions of Australia, floodplains are disconnected from creeks and rivers and natural flow regimes. This leaves them unable to store water to support productive farming and the growth of riparian vegetation.\\n\\nMany of today’s floodplains are incised with deeply scoured gullies and gorges. These are channels that expedite the swift flowing removal of much of the land’s fertility and the carriage of increasing amounts of salt. The soil and its nutrients are highly susceptible to leaching and erosion owing to the application of inappropriate agricultural and pastoral practices creating depleted soils and vegetation cover.\\n\\nNSF takes a holistic approach to natural resource management by re-establishing the stream’s connection to the surrounding landscape and restoring floodplains as ‘sponges’. Although most landscapes have unique qualities, the principles of landform and management are the same. The physics remains constant.\\n\\nPeter Andrews’ interpretation of the landscape accepts that, pre-European settlement, the soil’s natural salt content was kept in check by slow sub-soil movements of fresh water.\\n\\nUnder natural systems that are replicated by NSF, movement of fresh water is by surface and sub-surface flows. The surface flow is by the stream which is perched at the highest level of the floodplain on an accumulation of sediment. Surface water is buffered at each narrowed step position in the chain of ponds. Under NSF, this is achieved by a naturalised ‘leaky weir’ of rocks, sediment, trees, branches, reeds and grass roots mimicking the original natural slowing impediments to flows.\\n\\nIn floodplains in their pristine form, water is stepped slowly down the stream valley floor from one end of a catchment to the other. The stream valley floor is segmented with steps. These steps are where a new floodplain starts and the up-stream one finishes, and below which, large reed beds form on recharge areas.\\n\\nThe floodplains are soil, vegetation and water-filled ponds, forming links in a chain as they progress through each step down the valley. They are joined at each step where the valley sides narrow. Stream water travels through each linked floodplain as a sequence in the stream valley. The stream meanders over each sequence. It covers the floodplain with sediments as it steadily descends the valley. Each floodplain has stream meanders, pools and riffles as well as wetland and water meadow filters.\\n\\nWhere an incised stream bed exists, during low to medium stream flows, the sides of the stream are contained by levee banks built up by flood deposits. The banks are protected from severe erosion by wetland plants such as phragmites, other natural grasses, and streamside trees and shrubs, which have colonised the area.\\n\\nAt the same time, hydrostatic pressure from the perched water table in the stream prevents the lateral intrusion of salinity from the floodplain even in low flow periods.\\n\\nTo recreate the chain of ponds effect, NSF uses small secondary diversion channels to reconnect streams to their floodplains. These channels braid out through the lush meadows to the edges of the floodplain and water then returns to the main stream through surface and sub-surface flows. They pick up peak flows that are diverted by the leaky weirs which maintain normal base flow to downstream properties.\\n\\nDuring high flows, as water spreads across the floodplain in the braided diversion channels, some water is absorbed through sandy intake beds, recharging the groundwater lens above saline layers and just below the plant root systems.\\n\\nAnother portion of the surface water is carried in the channels towards historic floodplain terraces on the edge of the floodplain to refresh hollows and billabongs, facilitating fish passage in the process.\\n\\nDuring flood events, the reed buffers along the stream sides and at the narrow ends, where each pond is joined in the chain, lay down to laminate the ground surface with their protective mat but are ready to grow upright again when the flows have subsided.\\n\\nThe hydrostatic pressure of water in the topped-up meadow and billabong storages on the floodplain prevents the plants on the floodplain from ‘drowning’ in the short interval when the water is at a high level. This process can mitigate the impacts of salt ‘slugs’ that may have been scoured from saline deposits in uplands.\\n\\nThe stream water that is impounded in the recharged groundwater lens within the floodplain soils also provides a buffer against drought. There can be a period of several years of thriving plant growth before the water is fully transpired and the soil, which is heavily shaded by extensive vegetation cover, dries out. In normal years recharge from flooding would arrive earlier to restore the groundwater.\\n\\nAs part of NSF management, the farmer can divert flows between channels to dry out a meadow area for harvest while starting to produce increased growth in a new zone of the floodplain.\\n\\n\\nMaximum natural outcomes with minimum financial and manufactured inputs\\n\\nPeter Andrews’ NSF concepts are being applied at project sites as diverse as those featuring upland fast-flowing water courses, to broadacre cropping areas, dry gullies, and salt encrusted degraded lands as well as broad stream valleys and wetlands. Where human-induced impediments to natural growth and production are gradually replaced by the system built around the natural sequences of plants, animals, water and soils, properties have a solid foundation for increased profitability and long term sustainability. Industry analysts have been particularly attracted by the lush growth produced during drought conditions under Peter Andrews’ system.\\n\\nUnder NSF, natural water flows are reintroduced to alluvial soil plains. In many ways natural alluvial soil floodplains form the whole waterway down the valley whether through surface or sub-surface flow. In contrast, irrigation is the artificial application of water to the land. Invariably, the source of the irrigation water is from artificial storages and highly moderated streams with incised and eroded channels. These have generally been created by past poor environmental practices such as the removal of ground cover.\\n\\nOwing to its base of natural processes, NSF achieves more sustainable outcomes than traditional pipe and pump irrigation systems as it does not incur large financial costs or create long-term environmental degradation, loss of biodiversity and increasing salinity, as often occurs catchments with highly regulated stream regimes. NSF employs few imported or manufactured inputs such as pesticides, herbicides and artificial fertilisers. In terms of financial capital and operating inputs, it is not an expensive system to introduce and it brings Greenhouse gas benefits through increasing carbon levels in the landscape.\\n\\nThe investment required is in training for the landholder to interpret the natural processes of the landscape and time spent by the farmer in ‘reading the country’ and applying the NSF principles to the particular property and landscape features of their region. It is no surprise to find that Peter Andrews grew up on a property near Broken Hill area and spent much time with his stockman father and members of the Aboriginal community learning to read country.\\n\\nIn most cases, Peter Andrews finds that resources available on-site only require intelligent redistribution for natural processes to work in favour of productivity and a reversal of human-induced environmental imbalance and degradation, as most of the naturally developed ‘infrastructure’ is still there.\\n\\nIn working with nature, NSF requires very low maintenance inputs. Where outside inputs are employed on a farm they can be targeted. Small amounts can be applied to specific areas or species where the system is temporarily out of balance owing, in most cases, to factors outside the property boundaries. NSF harmonises modern technology with natural plant progressions to achieve a resilient model of farming.\\n\\nWhere neighbouring landholders in a sub-catchment adopt NSF, even more rapid progress to increased profitability and environmental sustainability can be achieved, as NSF adopts a whole-of-catchment approach to farming.\\n\\n\\nNSF applied to Grazing\\n\\nUnder NSF, many forms of grazing are appropriate if a vigorous perennial plant community can be maintained. If c ell-grazing methods are used, especially across valley segments from ridge to ridge, protection of the riparian zone needs to be considered. Over the medium to long term, weed control, nutrient balances and pest management can be managed by using Natural Sequence Farming methods.\\n\\nThe improved groundcover and reduced cultivation under NSF not only minimises farm costs but also reduces erosion, avoids soil compaction and maintains a soil structure with increased water holding capacity.\\n\\nThe use of water balances within NSF, brings the most increases in productivity and sustainability. Costs are also minimised, as water storage is in the groundwater lens rather than expensive above-ground dams, prone to siltation and with high evaporation rates when the water is needed most. Pasture is fed naturally from the roots rather than requiring extensive capital investments in pumps, pipes, irrigation gantries or feeder networks.\\n\\nTraditional livestock husbandry methods can be complementary to Natural Sequence Farming. Under NSF, livestock are considered as a major tool in land management, including for transferring fertility and controlling weeds. However, feedlot methods of production and other methods of confining herds or flocks need to be well-sited in the catchment to utilise self-removal and self-collection of residues for fertility management.\\n\\nOnce the initial phase of re-establishment to natural sequences is well on the way, which in most cases only takes one or two years with low cost inputs, monitoring and the application of NSF principles in harmony with Nature achieves continuing sustainable production.\\n\\n\\n NSF applied to Agriculture\\n\\nUnder NSF, cropping is best suited to methods complementary to retaining significant areas of season-specific perennial pastures. If needed, cultivation may be confined to soils on valley slopes rather than floodplains but it can be worth exploring direct-drill minimum-till broadcast methods first.\\n\\nHorticulture can be sited off flood plain areas, with careful transfer of valley floor fertility and water within the NSF system.\\n\\nNSF harmonises well with organic approaches to producing premium farm produce for a growing domestic and export market. Increasing numbers of consumers and vendors are demanding products produced with environmentally sustainable systems coupled with farm accreditation and certified produce before acceptance.\\n\\nThe use of outside inputs or recycling farm produce on the property can be part of managed fertility transfer, both on the farm and in the sub-catchment. For instance, hay making of legume-rich pasture can be rotated around various areas of a property to work in with weed reduction needs and fertility management.\\n\\nIrrigation is best-sited on valley floors although most areas managed with NSF require minimum supplementation of water transfers already naturally occurring on and beneath the floodplain.', 'new': \"\\n[('San Francisco', '37.7790262', '-122.419906'),\\n ('San Francisco', '37.7790262', '-122.419906'),\\n ('Alphabet', '37.3398646', '-121.8844823'),\\n ('the United States', '29.6330078', '-97.98859404468138'),\\n ('Slack', '53.6537065', '-1.876206'),\\n ('East Palo Alto', '37.4688273', '-122.141075'),\\n ('Calif.', '36.7014631', '-118.755997')]\", 'owner': Text(value=\"\\n[('San Francisco', '37.7790262', '-122.419906'),\\n ('San Francisco', '37.7790262', '-122.419906'),\\n ('Alphabet', '37.3398646', '-121.8844823'),\\n ('the United States', '29.6330078', '-97.98859404468138'),\\n ('Slack', '53.6537065', '-1.876206'),\\n ('East Palo Alto', '37.4688273', '-122.141075'),\\n ('Calif.', '36.7014631', '-118.755997')]\", description='Description', disabled=True, style=TextStyle(background='yellow')), 'type': 'change'}\nNEW on Twitch\ntwitch {'name': 'value', 'old': 'Natural sequences that can be harnessed by informed management include the movement of grazing animals, birds and insects from valley floors by day to higher levels on the valley sides at night and the transfer of fertility with them. There is a gradual movement of nutrients and seeds back down the valley sides via the water cycle, vegetation and soil processes, constantly refurbishing the fertility of the landscape.\\n\\nIn the process, various plants collect specific substances and the plant communities change in predictable sequences. As part of the biodiversity of a property and catchment, these plants are also a part of multiple food chains and a key to enhancing fertility.\\n\\nNutrients contained in soil or water are mobile and can be quickly lost off-site. Nutrients contained in biodiverse living bodies are stable. NSF management keeps natural functions connected which allows for quick exchange and conversion of nutrients within ecosystems on properties.\\n\\nPeter Andrews has found that even plants labeled as weeds can serve as pioneering species in inhibiting nutrient and soil erosion. They collect and supply essential substances for environmental health. Once slashed, fertility is built up and the weeds are replaced naturally by palatable grasses. To maximize production and conservation results requires a good understanding of interaction of the roles of clays and sands in the process.\\n\\nThis process is complemented by NSF property management when the initial erosion and fertility stabilising need has been met. The once degraded soils are then able to contribute to increased water use efficiency and optimal production levels through their increased organic content.\\n\\nAreas such as floodplains, that collect large amounts of nutrients, can be harvested to redistribute some of the fertility. Like the daily migration of birds and animals, downpours flushing streams to a floodplain are a sequence in the periodic fertilisation and harvest cycle.\\n\\nIn this process, surface running water dissolves natural substances and collects sediments, algae, microbes and plant residues from all parts of the catchment. Re-connecting running water to the stepped land formation of the chain of ponds that used to dominate traditional Australian landscapes, slows water flow. This enhances the ability of growing plants, coupled with decreasing inclines, soils and sands, to filter the water feeding into streams running along the valley floor. This process, in turn, feeds plant roots from the sub-surface and caps saline groundwater from surrounding slopes by perching a freshwater lens above saline layers.\\n\\nAll substances are functional in this naturally managed environment. Salts managed as saline groundwater, where evaporation is excluded from concentrating and crystallizing the substances, allow plant, animal and water ecosystems to balance salinity in the landscape as a natural function. In this way a hillslope pasture or floodplain water meadow is re-created.\\n\\nOn the floodplain, hydrostatic pressure is maintained on the heavier lower saline layers though maintaining high freshwater tables in the perched chain of ponds. At the same time, the stream replenishes the floodplain and its meadows, through lateral transfer to the freshwater table just below the surface.\\n\\nThe floodplain is convex. The perched stream runs along the higher elevation or apex and the billabongs and backswamps are at the lower positions on the perimeter of the floodplain where it meets the valley sides. This shape is created by the natural flow of the stream and reinforced by heavier sediment being deposited on and near the stream-bed in flood.\\n\\n\\nA farming system founded on working with nature\\n\\nIn many regions of Australia, floodplains are disconnected from creeks and rivers and natural flow regimes. This leaves them unable to store water to support productive farming and the growth of riparian vegetation.\\n\\nMany of today’s floodplains are incised with deeply scoured gullies and gorges. These are channels that expedite the swift flowing removal of much of the land’s fertility and the carriage of increasing amounts of salt. The soil and its nutrients are highly susceptible to leaching and erosion owing to the application of inappropriate agricultural and pastoral practices creating depleted soils and vegetation cover.\\n\\nNSF takes a holistic approach to natural resource management by re-establishing the stream’s connection to the surrounding landscape and restoring floodplains as ‘sponges’. Although most landscapes have unique qualities, the principles of landform and management are the same. The physics remains constant.\\n\\nPeter Andrews’ interpretation of the landscape accepts that, pre-European settlement, the soil’s natural salt content was kept in check by slow sub-soil movements of fresh water.\\n\\nUnder natural systems that are replicated by NSF, movement of fresh water is by surface and sub-surface flows. The surface flow is by the stream which is perched at the highest level of the floodplain on an accumulation of sediment. Surface water is buffered at each narrowed step position in the chain of ponds. Under NSF, this is achieved by a naturalised ‘leaky weir’ of rocks, sediment, trees, branches, reeds and grass roots mimicking the original natural slowing impediments to flows.\\n\\nIn floodplains in their pristine form, water is stepped slowly down the stream valley floor from one end of a catchment to the other. The stream valley floor is segmented with steps. These steps are where a new floodplain starts and the up-stream one finishes, and below which, large reed beds form on recharge areas.\\n\\nThe floodplains are soil, vegetation and water-filled ponds, forming links in a chain as they progress through each step down the valley. They are joined at each step where the valley sides narrow. Stream water travels through each linked floodplain as a sequence in the stream valley. The stream meanders over each sequence. It covers the floodplain with sediments as it steadily descends the valley. Each floodplain has stream meanders, pools and riffles as well as wetland and water meadow filters.\\n\\nWhere an incised stream bed exists, during low to medium stream flows, the sides of the stream are contained by levee banks built up by flood deposits. The banks are protected from severe erosion by wetland plants such as phragmites, other natural grasses, and streamside trees and shrubs, which have colonised the area.\\n\\nAt the same time, hydrostatic pressure from the perched water table in the stream prevents the lateral intrusion of salinity from the floodplain even in low flow periods.\\n\\nTo recreate the chain of ponds effect, NSF uses small secondary diversion channels to reconnect streams to their floodplains. These channels braid out through the lush meadows to the edges of the floodplain and water then returns to the main stream through surface and sub-surface flows. They pick up peak flows that are diverted by the leaky weirs which maintain normal base flow to downstream properties.\\n\\nDuring high flows, as water spreads across the floodplain in the braided diversion channels, some water is absorbed through sandy intake beds, recharging the groundwater lens above saline layers and just below the plant root systems.\\n\\nAnother portion of the surface water is carried in the channels towards historic floodplain terraces on the edge of the floodplain to refresh hollows and billabongs, facilitating fish passage in the process.\\n\\nDuring flood events, the reed buffers along the stream sides and at the narrow ends, where each pond is joined in the chain, lay down to laminate the ground surface with their protective mat but are ready to grow upright again when the flows have subsided.\\n\\nThe hydrostatic pressure of water in the topped-up meadow and billabong storages on the floodplain prevents the plants on the floodplain from ‘drowning’ in the short interval when the water is at a high level. This process can mitigate the impacts of salt ‘slugs’ that may have been scoured from saline deposits in uplands.\\n\\nThe stream water that is impounded in the recharged groundwater lens within the floodplain soils also provides a buffer against drought. There can be a period of several years of thriving plant growth before the water is fully transpired and the soil, which is heavily shaded by extensive vegetation cover, dries out. In normal years recharge from flooding would arrive earlier to restore the groundwater.\\n\\nAs part of NSF management, the farmer can divert flows between channels to dry out a meadow area for harvest while starting to produce increased growth in a new zone of the floodplain.\\n\\n\\nMaximum natural outcomes with minimum financial and manufactured inputs\\n\\nPeter Andrews’ NSF concepts are being applied at project sites as diverse as those featuring upland fast-flowing water courses, to broadacre cropping areas, dry gullies, and salt encrusted degraded lands as well as broad stream valleys and wetlands. Where human-induced impediments to natural growth and production are gradually replaced by the system built around the natural sequences of plants, animals, water and soils, properties have a solid foundation for increased profitability and long term sustainability. Industry analysts have been particularly attracted by the lush growth produced during drought conditions under Peter Andrews’ system.\\n\\nUnder NSF, natural water flows are reintroduced to alluvial soil plains. In many ways natural alluvial soil floodplains form the whole waterway down the valley whether through surface or sub-surface flow. In contrast, irrigation is the artificial application of water to the land. Invariably, the source of the irrigation water is from artificial storages and highly moderated streams with incised and eroded channels. These have generally been created by past poor environmental practices such as the removal of ground cover.\\n\\nOwing to its base of natural processes, NSF achieves more sustainable outcomes than traditional pipe and pump irrigation systems as it does not incur large financial costs or create long-term environmental degradation, loss of biodiversity and increasing salinity, as often occurs catchments with highly regulated stream regimes. NSF employs few imported or manufactured inputs such as pesticides, herbicides and artificial fertilisers. In terms of financial capital and operating inputs, it is not an expensive system to introduce and it brings Greenhouse gas benefits through increasing carbon levels in the landscape.\\n\\nThe investment required is in training for the landholder to interpret the natural processes of the landscape and time spent by the farmer in ‘reading the country’ and applying the NSF principles to the particular property and landscape features of their region. It is no surprise to find that Peter Andrews grew up on a property near Broken Hill area and spent much time with his stockman father and members of the Aboriginal community learning to read country.\\n\\nIn most cases, Peter Andrews finds that resources available on-site only require intelligent redistribution for natural processes to work in favour of productivity and a reversal of human-induced environmental imbalance and degradation, as most of the naturally developed ‘infrastructure’ is still there.\\n\\nIn working with nature, NSF requires very low maintenance inputs. Where outside inputs are employed on a farm they can be targeted. Small amounts can be applied to specific areas or species where the system is temporarily out of balance owing, in most cases, to factors outside the property boundaries. NSF harmonises modern technology with natural plant progressions to achieve a resilient model of farming.\\n\\nWhere neighbouring landholders in a sub-catchment adopt NSF, even more rapid progress to increased profitability and environmental sustainability can be achieved, as NSF adopts a whole-of-catchment approach to farming.\\n\\n\\nNSF applied to Grazing\\n\\nUnder NSF, many forms of grazing are appropriate if a vigorous perennial plant community can be maintained. If c ell-grazing methods are used, especially across valley segments from ridge to ridge, protection of the riparian zone needs to be considered. Over the medium to long term, weed control, nutrient balances and pest management can be managed by using Natural Sequence Farming methods.\\n\\nThe improved groundcover and reduced cultivation under NSF not only minimises farm costs but also reduces erosion, avoids soil compaction and maintains a soil structure with increased water holding capacity.\\n\\nThe use of water balances within NSF, brings the most increases in productivity and sustainability. Costs are also minimised, as water storage is in the groundwater lens rather than expensive above-ground dams, prone to siltation and with high evaporation rates when the water is needed most. Pasture is fed naturally from the roots rather than requiring extensive capital investments in pumps, pipes, irrigation gantries or feeder networks.\\n\\nTraditional livestock husbandry methods can be complementary to Natural Sequence Farming. Under NSF, livestock are considered as a major tool in land management, including for transferring fertility and controlling weeds. However, feedlot methods of production and other methods of confining herds or flocks need to be well-sited in the catchment to utilise self-removal and self-collection of residues for fertility management.\\n\\nOnce the initial phase of re-establishment to natural sequences is well on the way, which in most cases only takes one or two years with low cost inputs, monitoring and the application of NSF principles in harmony with Nature achieves continuing sustainable production.\\n\\n\\n NSF applied to Agriculture\\n\\nUnder NSF, cropping is best suited to methods complementary to retaining significant areas of season-specific perennial pastures. If needed, cultivation may be confined to soils on valley slopes rather than floodplains but it can be worth exploring direct-drill minimum-till broadcast methods first.\\n\\nHorticulture can be sited off flood plain areas, with careful transfer of valley floor fertility and water within the NSF system.\\n\\nNSF harmonises well with organic approaches to producing premium farm produce for a growing domestic and export market. Increasing numbers of consumers and vendors are demanding products produced with environmentally sustainable systems coupled with farm accreditation and certified produce before acceptance.\\n\\nThe use of outside inputs or recycling farm produce on the property can be part of managed fertility transfer, both on the farm and in the sub-catchment. For instance, hay making of legume-rich pasture can be rotated around various areas of a property to work in with weed reduction needs and fertility management.\\n\\nIrrigation is best-sited on valley floors although most areas managed with NSF require minimum supplementation of water transfers already naturally occurring on and beneath the floodplain.', 'new': \"\\n[('San Francisco', '37.7790262', '-122.419906'),\\n ('San Francisco', '37.7790262', '-122.419906'),\\n ('Alphabet', '37.3398646', '-121.8844823'),\\n ('the United States', '29.6330078', '-97.98859404468138'),\\n ('Slack', '53.6537065', '-1.876206'),\\n ('East Palo Alto', '37.4688273', '-122.141075'),\\n ('Calif.', '36.7014631', '-118.755997')]\", 'owner': Text(value=\"\\n[('San Francisco', '37.7790262', '-122.419906'),\\n ('San Francisco', '37.7790262', '-122.419906'),\\n ('Alphabet', '37.3398646', '-121.8844823'),\\n ('the United States', '29.6330078', '-97.98859404468138'),\\n ('Slack', '53.6537065', '-1.876206'),\\n ('East Palo Alto', '37.4688273', '-122.141075'),\\n ('Calif.', '36.7014631', '-118.755997')]\", description='Description', disabled=True, style=TextStyle(background='yellow')), 'type': 'change'}\nupdateHTML {'name': 'value', 'old': 'Natural sequences that can be harnessed by informed management include the movement of grazing animals, birds and insects from valley floors by day to higher levels on the valley sides at night and the transfer of fertility with them. There is a gradual movement of nutrients and seeds back down the valley sides via the water cycle, vegetation and soil processes, constantly refurbishing the fertility of the landscape.\\n\\nIn the process, various plants collect specific substances and the plant communities change in predictable sequences. As part of the biodiversity of a property and catchment, these plants are also a part of multiple food chains and a key to enhancing fertility.\\n\\nNutrients contained in soil or water are mobile and can be quickly lost off-site. Nutrients contained in biodiverse living bodies are stable. NSF management keeps natural functions connected which allows for quick exchange and conversion of nutrients within ecosystems on properties.\\n\\nPeter Andrews has found that even plants labeled as weeds can serve as pioneering species in inhibiting nutrient and soil erosion. They collect and supply essential substances for environmental health. Once slashed, fertility is built up and the weeds are replaced naturally by palatable grasses. To maximize production and conservation results requires a good understanding of interaction of the roles of clays and sands in the process.\\n\\nThis process is complemented by NSF property management when the initial erosion and fertility stabilising need has been met. The once degraded soils are then able to contribute to increased water use efficiency and optimal production levels through their increased organic content.\\n\\nAreas such as floodplains, that collect large amounts of nutrients, can be harvested to redistribute some of the fertility. Like the daily migration of birds and animals, downpours flushing streams to a floodplain are a sequence in the periodic fertilisation and harvest cycle.\\n\\nIn this process, surface running water dissolves natural substances and collects sediments, algae, microbes and plant residues from all parts of the catchment. Re-connecting running water to the stepped land formation of the chain of ponds that used to dominate traditional Australian landscapes, slows water flow. This enhances the ability of growing plants, coupled with decreasing inclines, soils and sands, to filter the water feeding into streams running along the valley floor. This process, in turn, feeds plant roots from the sub-surface and caps saline groundwater from surrounding slopes by perching a freshwater lens above saline layers.\\n\\nAll substances are functional in this naturally managed environment. Salts managed as saline groundwater, where evaporation is excluded from concentrating and crystallizing the substances, allow plant, animal and water ecosystems to balance salinity in the landscape as a natural function. In this way a hillslope pasture or floodplain water meadow is re-created.\\n\\nOn the floodplain, hydrostatic pressure is maintained on the heavier lower saline layers though maintaining high freshwater tables in the perched chain of ponds. At the same time, the stream replenishes the floodplain and its meadows, through lateral transfer to the freshwater table just below the surface.\\n\\nThe floodplain is convex. The perched stream runs along the higher elevation or apex and the billabongs and backswamps are at the lower positions on the perimeter of the floodplain where it meets the valley sides. This shape is created by the natural flow of the stream and reinforced by heavier sediment being deposited on and near the stream-bed in flood.\\n\\n\\nA farming system founded on working with nature\\n\\nIn many regions of Australia, floodplains are disconnected from creeks and rivers and natural flow regimes. This leaves them unable to store water to support productive farming and the growth of riparian vegetation.\\n\\nMany of today’s floodplains are incised with deeply scoured gullies and gorges. These are channels that expedite the swift flowing removal of much of the land’s fertility and the carriage of increasing amounts of salt. The soil and its nutrients are highly susceptible to leaching and erosion owing to the application of inappropriate agricultural and pastoral practices creating depleted soils and vegetation cover.\\n\\nNSF takes a holistic approach to natural resource management by re-establishing the stream’s connection to the surrounding landscape and restoring floodplains as ‘sponges’. Although most landscapes have unique qualities, the principles of landform and management are the same. The physics remains constant.\\n\\nPeter Andrews’ interpretation of the landscape accepts that, pre-European settlement, the soil’s natural salt content was kept in check by slow sub-soil movements of fresh water.\\n\\nUnder natural systems that are replicated by NSF, movement of fresh water is by surface and sub-surface flows. The surface flow is by the stream which is perched at the highest level of the floodplain on an accumulation of sediment. Surface water is buffered at each narrowed step position in the chain of ponds. Under NSF, this is achieved by a naturalised ‘leaky weir’ of rocks, sediment, trees, branches, reeds and grass roots mimicking the original natural slowing impediments to flows.\\n\\nIn floodplains in their pristine form, water is stepped slowly down the stream valley floor from one end of a catchment to the other. The stream valley floor is segmented with steps. These steps are where a new floodplain starts and the up-stream one finishes, and below which, large reed beds form on recharge areas.\\n\\nThe floodplains are soil, vegetation and water-filled ponds, forming links in a chain as they progress through each step down the valley. They are joined at each step where the valley sides narrow. Stream water travels through each linked floodplain as a sequence in the stream valley. The stream meanders over each sequence. It covers the floodplain with sediments as it steadily descends the valley. Each floodplain has stream meanders, pools and riffles as well as wetland and water meadow filters.\\n\\nWhere an incised stream bed exists, during low to medium stream flows, the sides of the stream are contained by levee banks built up by flood deposits. The banks are protected from severe erosion by wetland plants such as phragmites, other natural grasses, and streamside trees and shrubs, which have colonised the area.\\n\\nAt the same time, hydrostatic pressure from the perched water table in the stream prevents the lateral intrusion of salinity from the floodplain even in low flow periods.\\n\\nTo recreate the chain of ponds effect, NSF uses small secondary diversion channels to reconnect streams to their floodplains. These channels braid out through the lush meadows to the edges of the floodplain and water then returns to the main stream through surface and sub-surface flows. They pick up peak flows that are diverted by the leaky weirs which maintain normal base flow to downstream properties.\\n\\nDuring high flows, as water spreads across the floodplain in the braided diversion channels, some water is absorbed through sandy intake beds, recharging the groundwater lens above saline layers and just below the plant root systems.\\n\\nAnother portion of the surface water is carried in the channels towards historic floodplain terraces on the edge of the floodplain to refresh hollows and billabongs, facilitating fish passage in the process.\\n\\nDuring flood events, the reed buffers along the stream sides and at the narrow ends, where each pond is joined in the chain, lay down to laminate the ground surface with their protective mat but are ready to grow upright again when the flows have subsided.\\n\\nThe hydrostatic pressure of water in the topped-up meadow and billabong storages on the floodplain prevents the plants on the floodplain from ‘drowning’ in the short interval when the water is at a high level. This process can mitigate the impacts of salt ‘slugs’ that may have been scoured from saline deposits in uplands.\\n\\nThe stream water that is impounded in the recharged groundwater lens within the floodplain soils also provides a buffer against drought. There can be a period of several years of thriving plant growth before the water is fully transpired and the soil, which is heavily shaded by extensive vegetation cover, dries out. In normal years recharge from flooding would arrive earlier to restore the groundwater.\\n\\nAs part of NSF management, the farmer can divert flows between channels to dry out a meadow area for harvest while starting to produce increased growth in a new zone of the floodplain.\\n\\n\\nMaximum natural outcomes with minimum financial and manufactured inputs\\n\\nPeter Andrews’ NSF concepts are being applied at project sites as diverse as those featuring upland fast-flowing water courses, to broadacre cropping areas, dry gullies, and salt encrusted degraded lands as well as broad stream valleys and wetlands. Where human-induced impediments to natural growth and production are gradually replaced by the system built around the natural sequences of plants, animals, water and soils, properties have a solid foundation for increased profitability and long term sustainability. Industry analysts have been particularly attracted by the lush growth produced during drought conditions under Peter Andrews’ system.\\n\\nUnder NSF, natural water flows are reintroduced to alluvial soil plains. In many ways natural alluvial soil floodplains form the whole waterway down the valley whether through surface or sub-surface flow. In contrast, irrigation is the artificial application of water to the land. Invariably, the source of the irrigation water is from artificial storages and highly moderated streams with incised and eroded channels. These have generally been created by past poor environmental practices such as the removal of ground cover.\\n\\nOwing to its base of natural processes, NSF achieves more sustainable outcomes than traditional pipe and pump irrigation systems as it does not incur large financial costs or create long-term environmental degradation, loss of biodiversity and increasing salinity, as often occurs catchments with highly regulated stream regimes. NSF employs few imported or manufactured inputs such as pesticides, herbicides and artificial fertilisers. In terms of financial capital and operating inputs, it is not an expensive system to introduce and it brings Greenhouse gas benefits through increasing carbon levels in the landscape.\\n\\nThe investment required is in training for the landholder to interpret the natural processes of the landscape and time spent by the farmer in ‘reading the country’ and applying the NSF principles to the particular property and landscape features of their region. It is no surprise to find that Peter Andrews grew up on a property near Broken Hill area and spent much time with his stockman father and members of the Aboriginal community learning to read country.\\n\\nIn most cases, Peter Andrews finds that resources available on-site only require intelligent redistribution for natural processes to work in favour of productivity and a reversal of human-induced environmental imbalance and degradation, as most of the naturally developed ‘infrastructure’ is still there.\\n\\nIn working with nature, NSF requires very low maintenance inputs. Where outside inputs are employed on a farm they can be targeted. Small amounts can be applied to specific areas or species where the system is temporarily out of balance owing, in most cases, to factors outside the property boundaries. NSF harmonises modern technology with natural plant progressions to achieve a resilient model of farming.\\n\\nWhere neighbouring landholders in a sub-catchment adopt NSF, even more rapid progress to increased profitability and environmental sustainability can be achieved, as NSF adopts a whole-of-catchment approach to farming.\\n\\n\\nNSF applied to Grazing\\n\\nUnder NSF, many forms of grazing are appropriate if a vigorous perennial plant community can be maintained. If c ell-grazing methods are used, especially across valley segments from ridge to ridge, protection of the riparian zone needs to be considered. Over the medium to long term, weed control, nutrient balances and pest management can be managed by using Natural Sequence Farming methods.\\n\\nThe improved groundcover and reduced cultivation under NSF not only minimises farm costs but also reduces erosion, avoids soil compaction and maintains a soil structure with increased water holding capacity.\\n\\nThe use of water balances within NSF, brings the most increases in productivity and sustainability. Costs are also minimised, as water storage is in the groundwater lens rather than expensive above-ground dams, prone to siltation and with high evaporation rates when the water is needed most. Pasture is fed naturally from the roots rather than requiring extensive capital investments in pumps, pipes, irrigation gantries or feeder networks.\\n\\nTraditional livestock husbandry methods can be complementary to Natural Sequence Farming. Under NSF, livestock are considered as a major tool in land management, including for transferring fertility and controlling weeds. However, feedlot methods of production and other methods of confining herds or flocks need to be well-sited in the catchment to utilise self-removal and self-collection of residues for fertility management.\\n\\nOnce the initial phase of re-establishment to natural sequences is well on the way, which in most cases only takes one or two years with low cost inputs, monitoring and the application of NSF principles in harmony with Nature achieves continuing sustainable production.\\n\\n\\n NSF applied to Agriculture\\n\\nUnder NSF, cropping is best suited to methods complementary to retaining significant areas of season-specific perennial pastures. If needed, cultivation may be confined to soils on valley slopes rather than floodplains but it can be worth exploring direct-drill minimum-till broadcast methods first.\\n\\nHorticulture can be sited off flood plain areas, with careful transfer of valley floor fertility and water within the NSF system.\\n\\nNSF harmonises well with organic approaches to producing premium farm produce for a growing domestic and export market. Increasing numbers of consumers and vendors are demanding products produced with environmentally sustainable systems coupled with farm accreditation and certified produce before acceptance.\\n\\nThe use of outside inputs or recycling farm produce on the property can be part of managed fertility transfer, both on the farm and in the sub-catchment. For instance, hay making of legume-rich pasture can be rotated around various areas of a property to work in with weed reduction needs and fertility management.\\n\\nIrrigation is best-sited on valley floors although most areas managed with NSF require minimum supplementation of water transfers already naturally occurring on and beneath the floodplain.', 'new': \"\\n[('San Francisco', '37.7790262', '-122.419906'),\\n ('San Francisco', '37.7790262', '-122.419906'),\\n ('Alphabet', '37.3398646', '-121.8844823'),\\n ('the United States', '29.6330078', '-97.98859404468138'),\\n ('Slack', '53.6537065', '-1.876206'),\\n ('East Palo Alto', '37.4688273', '-122.141075'),\\n ('Calif.', '36.7014631', '-118.755997')]\", 'owner': Textarea(value=\"\\n[('San Francisco', '37.7790262', '-122.419906'),\\n ('San Francisco', '37.7790262', '-122.419906'),\\n ('Alphabet', '37.3398646', '-121.8844823'),\\n ('the United States', '29.6330078', '-97.98859404468138'),\\n ('Slack', '53.6537065', '-1.876206'),\\n ('East Palo Alto', '37.4688273', '-122.141075'),\\n ('Calif.', '36.7014631', '-118.755997')]\", layout=Layout(height='1000px', width='40%')), 'type': 'change'}\nupdateHTML {'name': '_property_lock', 'old': {'value': \"\\n[('San Francisco', '37.7790262', '-122.419906'),\\n ('San Francisco', '37.7790262', '-122.419906'),\\n ('Alphabet', '37.3398646', '-121.8844823'),\\n ('the United States', '29.6330078', '-97.98859404468138'),\\n ('Slack', '53.6537065', '-1.876206'),\\n ('East Palo Alto', '37.4688273', '-122.141075'),\\n ('Calif.', '36.7014631', '-118.755997')]\"}, 'new': {}, 'owner': Textarea(value=\"\\n[('San Francisco', '37.7790262', '-122.419906'),\\n ('San Francisco', '37.7790262', '-122.419906'),\\n ('Alphabet', '37.3398646', '-121.8844823'),\\n ('the United States', '29.6330078', '-97.98859404468138'),\\n ('Slack', '53.6537065', '-1.876206'),\\n ('East Palo Alto', '37.4688273', '-122.141075'),\\n ('Calif.', '36.7014631', '-118.755997')]\", layout=Layout(height='1000px', width='40%')), 'type': 'change'}\nupdateHTML {'name': '_property_lock', 'old': {}, 'new': {'value': \"\\n[('San Francisco', '37.7790262', '-122.419906'),\\n ('San Francisco', '37.7790262', '-122.419906'),\\n ('Alphabet', '37.3398646', '-121.8844823'),\\n ('the United States', '29.6330078', '-97.98859404468138'),\\n ('Slack', '53.6537065', '-1.876206'),\\n ('East Palo Alto', '37.4688273', '-122.141075'),\\n ('Calif.', '36.7014631', '-118.755997')] \"}, 'owner': Textarea(value=\"\\n[('San Francisco', '37.7790262', '-122.419906'),\\n ('San Francisco', '37.7790262', '-122.419906'),\\n ('Alphabet', '37.3398646', '-121.8844823'),\\n ('the United States', '29.6330078', '-97.98859404468138'),\\n ('Slack', '53.6537065', '-1.876206'),\\n ('East Palo Alto', '37.4688273', '-122.141075'),\\n ('Calif.', '36.7014631', '-118.755997')]\", layout=Layout(height='1000px', width='40%')), 'type': 'change'}\nupdateHTML {'name': 'value', 'old': \"\\n[('San Francisco', '37.7790262', '-122.419906'),\\n ('San Francisco', '37.7790262', '-122.419906'),\\n ('Alphabet', '37.3398646', '-121.8844823'),\\n ('the United States', '29.6330078', '-97.98859404468138'),\\n ('Slack', '53.6537065', '-1.876206'),\\n ('East Palo Alto', '37.4688273', '-122.141075'),\\n ('Calif.', '36.7014631', '-118.755997')]\", 'new': \"\\n[('San Francisco', '37.7790262', '-122.419906'),\\n ('San Francisco', '37.7790262', '-122.419906'),\\n ('Alphabet', '37.3398646', '-121.8844823'),\\n ('the United States', '29.6330078', '-97.98859404468138'),\\n ('Slack', '53.6537065', '-1.876206'),\\n ('East Palo Alto', '37.4688273', '-122.141075'),\\n ('Calif.', '36.7014631', '-118.755997')] \", 'owner': Text(value=\"\\n[('San Francisco', '37.7790262', '-122.419906'),\\n ('San Francisco', '37.7790262', '-122.419906'),\\n ('Alphabet', '37.3398646', '-121.8844823'),\\n ('the United States', '29.6330078', '-97.98859404468138'),\\n ('Slack', '53.6537065', '-1.876206'),\\n ('East Palo Alto', '37.4688273', '-122.141075'),\\n ('Calif.', '36.7014631', '-118.755997')] \", description='Description', disabled=True, style=TextStyle(background='yellow')), 'type': 'change'}\nNEW on Twitch\ntwitch {'name': 'value', 'old': \"\\n[('San Francisco', '37.7790262', '-122.419906'),\\n ('San Francisco', '37.7790262', '-122.419906'),\\n ('Alphabet', '37.3398646', '-121.8844823'),\\n ('the United States', '29.6330078', '-97.98859404468138'),\\n ('Slack', '53.6537065', '-1.876206'),\\n ('East Palo Alto', '37.4688273', '-122.141075'),\\n ('Calif.', '36.7014631', '-118.755997')]\", 'new': \"\\n[('San Francisco', '37.7790262', '-122.419906'),\\n ('San Francisco', '37.7790262', '-122.419906'),\\n ('Alphabet', '37.3398646', '-121.8844823'),\\n ('the United States', '29.6330078', '-97.98859404468138'),\\n ('Slack', '53.6537065', '-1.876206'),\\n ('East Palo Alto', '37.4688273', '-122.141075'),\\n ('Calif.', '36.7014631', '-118.755997')] \", 'owner': Text(value=\"\\n[('San Francisco', '37.7790262', '-122.419906'),\\n ('San Francisco', '37.7790262', '-122.419906'),\\n ('Alphabet', '37.3398646', '-121.8844823'),\\n ('the United States', '29.6330078', '-97.98859404468138'),\\n ('Slack', '53.6537065', '-1.876206'),\\n ('East Palo Alto', '37.4688273', '-122.141075'),\\n ('Calif.', '36.7014631', '-118.755997')] \", description='Description', disabled=True, style=TextStyle(background='yellow')), 'type': 'change'}\nupdateHTML {'name': 'value', 'old': \"\\n[('San Francisco', '37.7790262', '-122.419906'),\\n ('San Francisco', '37.7790262', '-122.419906'),\\n ('Alphabet', '37.3398646', '-121.8844823'),\\n ('the United States', '29.6330078', '-97.98859404468138'),\\n ('Slack', '53.6537065', '-1.876206'),\\n ('East Palo Alto', '37.4688273', '-122.141075'),\\n ('Calif.', '36.7014631', '-118.755997')]\", 'new': \"\\n[('San Francisco', '37.7790262', '-122.419906'),\\n ('San Francisco', '37.7790262', '-122.419906'),\\n ('Alphabet', '37.3398646', '-121.8844823'),\\n ('the United States', '29.6330078', '-97.98859404468138'),\\n ('Slack', '53.6537065', '-1.876206'),\\n ('East Palo Alto', '37.4688273', '-122.141075'),\\n ('Calif.', '36.7014631', '-118.755997')] \", 'owner': Textarea(value=\"\\n[('San Francisco', '37.7790262', '-122.419906'),\\n ('San Francisco', '37.7790262', '-122.419906'),\\n ('Alphabet', '37.3398646', '-121.8844823'),\\n ('the United States', '29.6330078', '-97.98859404468138'),\\n ('Slack', '53.6537065', '-1.876206'),\\n ('East Palo Alto', '37.4688273', '-122.141075'),\\n ('Calif.', '36.7014631', '-118.755997')] \", layout=Layout(height='1000px', width='40%')), 'type': 'change'}\nupdateHTML {'name': '_property_lock', 'old': {'value': \"\\n[('San Francisco', '37.7790262', '-122.419906'),\\n ('San Francisco', '37.7790262', '-122.419906'),\\n ('Alphabet', '37.3398646', '-121.8844823'),\\n ('the United States', '29.6330078', '-97.98859404468138'),\\n ('Slack', '53.6537065', '-1.876206'),\\n ('East Palo Alto', '37.4688273', '-122.141075'),\\n ('Calif.', '36.7014631', '-118.755997')] \"}, 'new': {}, 'owner': Textarea(value=\"\\n[('San Francisco', '37.7790262', '-122.419906'),\\n ('San Francisco', '37.7790262', '-122.419906'),\\n ('Alphabet', '37.3398646', '-121.8844823'),\\n ('the United States', '29.6330078', '-97.98859404468138'),\\n ('Slack', '53.6537065', '-1.876206'),\\n ('East Palo Alto', '37.4688273', '-122.141075'),\\n ('Calif.', '36.7014631', '-118.755997')] \", layout=Layout(height='1000px', width='40%')), 'type': 'change'}\nupdateHTML {'name': '_property_lock', 'old': {}, 'new': {'value': \"\\n[('San Francisco', '37.7790262', '-122.419906'),\\n ('San Francisco', '37.7790262', '-122.419906'),\\n ('Alphabet', '37.3398646', '-121.8844823'),\\n ('the United States', '29.6330078', '-97.98859404468138'),\\n ('Slack', '53.6537065', '-1.876206'),\\n ('East Palo Alto', '37.4688273', '-122.141075'),\\n ('Calif.', '36.7014631', '-118.755997')]\"}, 'owner': Textarea(value=\"\\n[('San Francisco', '37.7790262', '-122.419906'),\\n ('San Francisco', '37.7790262', '-122.419906'),\\n ('Alphabet', '37.3398646', '-121.8844823'),\\n ('the United States', '29.6330078', '-97.98859404468138'),\\n ('Slack', '53.6537065', '-1.876206'),\\n ('East Palo Alto', '37.4688273', '-122.141075'),\\n ('Calif.', '36.7014631', '-118.755997')] \", layout=Layout(height='1000px', width='40%')), 'type': 'change'}\nupdateHTML {'name': 'value', 'old': \"\\n[('San Francisco', '37.7790262', '-122.419906'),\\n ('San Francisco', '37.7790262', '-122.419906'),\\n ('Alphabet', '37.3398646', '-121.8844823'),\\n ('the United States', '29.6330078', '-97.98859404468138'),\\n ('Slack', '53.6537065', '-1.876206'),\\n ('East Palo Alto', '37.4688273', '-122.141075'),\\n ('Calif.', '36.7014631', '-118.755997')] \", 'new': \"\\n[('San Francisco', '37.7790262', '-122.419906'),\\n ('San Francisco', '37.7790262', '-122.419906'),\\n ('Alphabet', '37.3398646', '-121.8844823'),\\n ('the United States', '29.6330078', '-97.98859404468138'),\\n ('Slack', '53.6537065', '-1.876206'),\\n ('East Palo Alto', '37.4688273', '-122.141075'),\\n ('Calif.', '36.7014631', '-118.755997')]\", 'owner': Text(value=\"\\n[('San Francisco', '37.7790262', '-122.419906'),\\n ('San Francisco', '37.7790262', '-122.419906'),\\n ('Alphabet', '37.3398646', '-121.8844823'),\\n ('the United States', '29.6330078', '-97.98859404468138'),\\n ('Slack', '53.6537065', '-1.876206'),\\n ('East Palo Alto', '37.4688273', '-122.141075'),\\n ('Calif.', '36.7014631', '-118.755997')]\", description='Description', disabled=True, style=TextStyle(background='yellow')), 'type': 'change'}\nNEW on Twitch\ntwitch {'name': 'value', 'old': \"\\n[('San Francisco', '37.7790262', '-122.419906'),\\n ('San Francisco', '37.7790262', '-122.419906'),\\n ('Alphabet', '37.3398646', '-121.8844823'),\\n ('the United States', '29.6330078', '-97.98859404468138'),\\n ('Slack', '53.6537065', '-1.876206'),\\n ('East Palo Alto', '37.4688273', '-122.141075'),\\n ('Calif.', '36.7014631', '-118.755997')] \", 'new': \"\\n[('San Francisco', '37.7790262', '-122.419906'),\\n ('San Francisco', '37.7790262', '-122.419906'),\\n ('Alphabet', '37.3398646', '-121.8844823'),\\n ('the United States', '29.6330078', '-97.98859404468138'),\\n ('Slack', '53.6537065', '-1.876206'),\\n ('East Palo Alto', '37.4688273', '-122.141075'),\\n ('Calif.', '36.7014631', '-118.755997')]\", 'owner': Text(value=\"\\n[('San Francisco', '37.7790262', '-122.419906'),\\n ('San Francisco', '37.7790262', '-122.419906'),\\n ('Alphabet', '37.3398646', '-121.8844823'),\\n ('the United States', '29.6330078', '-97.98859404468138'),\\n ('Slack', '53.6537065', '-1.876206'),\\n ('East Palo Alto', '37.4688273', '-122.141075'),\\n ('Calif.', '36.7014631', '-118.755997')]\", description='Description', disabled=True, style=TextStyle(background='yellow')), 'type': 'change'}\nupdateHTML {'name': 'value', 'old': \"\\n[('San Francisco', '37.7790262', '-122.419906'),\\n ('San Francisco', '37.7790262', '-122.419906'),\\n ('Alphabet', '37.3398646', '-121.8844823'),\\n ('the United States', '29.6330078', '-97.98859404468138'),\\n ('Slack', '53.6537065', '-1.876206'),\\n ('East Palo Alto', '37.4688273', '-122.141075'),\\n ('Calif.', '36.7014631', '-118.755997')] \", 'new': \"\\n[('San Francisco', '37.7790262', '-122.419906'),\\n ('San Francisco', '37.7790262', '-122.419906'),\\n ('Alphabet', '37.3398646', '-121.8844823'),\\n ('the United States', '29.6330078', '-97.98859404468138'),\\n ('Slack', '53.6537065', '-1.876206'),\\n ('East Palo Alto', '37.4688273', '-122.141075'),\\n ('Calif.', '36.7014631', '-118.755997')]\", 'owner': Textarea(value=\"\\n[('San Francisco', '37.7790262', '-122.419906'),\\n ('San Francisco', '37.7790262', '-122.419906'),\\n ('Alphabet', '37.3398646', '-121.8844823'),\\n ('the United States', '29.6330078', '-97.98859404468138'),\\n ('Slack', '53.6537065', '-1.876206'),\\n ('East Palo Alto', '37.4688273', '-122.141075'),\\n ('Calif.', '36.7014631', '-118.755997')]\", layout=Layout(height='1000px', width='40%')), 'type': 'change'}\nupdateHTML {'name': '_property_lock', 'old': {'value': \"\\n[('San Francisco', '37.7790262', '-122.419906'),\\n ('San Francisco', '37.7790262', '-122.419906'),\\n ('Alphabet', '37.3398646', '-121.8844823'),\\n ('the United States', '29.6330078', '-97.98859404468138'),\\n ('Slack', '53.6537065', '-1.876206'),\\n ('East Palo Alto', '37.4688273', '-122.141075'),\\n ('Calif.', '36.7014631', '-118.755997')]\"}, 'new': {}, 'owner': Textarea(value=\"\\n[('San Francisco', '37.7790262', '-122.419906'),\\n ('San Francisco', '37.7790262', '-122.419906'),\\n ('Alphabet', '37.3398646', '-121.8844823'),\\n ('the United States', '29.6330078', '-97.98859404468138'),\\n ('Slack', '53.6537065', '-1.876206'),\\n ('East Palo Alto', '37.4688273', '-122.141075'),\\n ('Calif.', '36.7014631', '-118.755997')]\", layout=Layout(height='1000px', width='40%')), 'type': 'change'}\n"
        }
       ]
      }
     },
     "51b01118ad4c4327b2762db90f120db7": {
      "model_module": "@jupyter-widgets/base",
      "model_module_version": "2.0.0",
      "model_name": "LayoutModel",
      "state": {}
     },
     "52ab6010f3c245adbe87f66394a2a90f": {
      "model_module": "@jupyter-widgets/base",
      "model_module_version": "2.0.0",
      "model_name": "LayoutModel",
      "state": {}
     },
     "52eeffb166f2495481a2fb677792c438": {
      "model_module": "@jupyter-widgets/controls",
      "model_module_version": "2.0.0",
      "model_name": "TextModel",
      "state": {
       "description": "Freshness",
       "layout": "IPY_MODEL_80d6529dbf8c48ba85a2e3508b043566",
       "style": "IPY_MODEL_db09d2e81c834a66aae6b21595a5c5c5",
       "value": "1"
      }
     },
     "52fe2ac24f7049998caa5866fbce01f0": {
      "model_module": "@jupyter-widgets/base",
      "model_module_version": "2.0.0",
      "model_name": "LayoutModel",
      "state": {
       "width": "100%"
      }
     },
     "532fe921601048298530aa4ec08b25c8": {
      "model_module": "@jupyter-widgets/base",
      "model_module_version": "2.0.0",
      "model_name": "LayoutModel",
      "state": {}
     },
     "584ab87e303f451bb5a5da1942e2dfd6": {
      "model_module": "@jupyter-widgets/controls",
      "model_module_version": "2.0.0",
      "model_name": "TextStyleModel",
      "state": {
       "description_width": "",
       "font_size": null,
       "text_color": null
      }
     },
     "58acdc0b882f43dd8a9f3339452b1cb2": {
      "model_module": "@jupyter-widgets/controls",
      "model_module_version": "2.0.0",
      "model_name": "ButtonStyleModel",
      "state": {
       "font_family": null,
       "font_size": null,
       "font_style": null,
       "font_variant": null,
       "font_weight": null,
       "text_color": null,
       "text_decoration": null
      }
     },
     "5b551e14070c48eca0b7823ade50930d": {
      "model_module": "@jupyter-widgets/controls",
      "model_module_version": "2.0.0",
      "model_name": "ButtonModel",
      "state": {
       "description": "Load:",
       "layout": "IPY_MODEL_99b4eca6e9794736a038f8022f32f627",
       "style": "IPY_MODEL_f5b7e3c32afd4509af05888015a7f578",
       "tooltip": null
      }
     },
     "5c912fcc152443cb80fb886a474a18c0": {
      "model_module": "@jupyter-widgets/controls",
      "model_module_version": "2.0.0",
      "model_name": "TextStyleModel",
      "state": {
       "description_width": "",
       "font_size": null,
       "text_color": null
      }
     },
     "5da70f0e339d426a8d66bd19d46f6332": {
      "model_module": "@jupyter-widgets/controls",
      "model_module_version": "2.0.0",
      "model_name": "ButtonModel",
      "state": {
       "description": "-",
       "disabled": true,
       "layout": "IPY_MODEL_d2f3caba88b14bddbe45039c5b9a3f65",
       "style": "IPY_MODEL_6975877aa7c54df79359174bb71f33cc",
       "tooltip": null
      }
     },
     "5ecdde5612884e68a917f55b57784ba3": {
      "model_module": "@jupyter-widgets/controls",
      "model_module_version": "2.0.0",
      "model_name": "TextStyleModel",
      "state": {
       "description_width": "",
       "font_size": null,
       "text_color": null
      }
     },
     "5f492b9366fd4513a362a1c2e24d04d3": {
      "model_module": "@jupyter-widgets/controls",
      "model_module_version": "2.0.0",
      "model_name": "ButtonModel",
      "state": {
       "description": "restartChromes",
       "layout": "IPY_MODEL_75ea9476bd594e8095fbe91d0da3359a",
       "style": "IPY_MODEL_291f1ab54159414da1986bc9de428805",
       "tooltip": null
      }
     },
     "5f85c8b632234d4fa4e67bc0740c3ca5": {
      "model_module": "@jupyter-widgets/controls",
      "model_module_version": "2.0.0",
      "model_name": "TextStyleModel",
      "state": {
       "description_width": "",
       "font_size": null,
       "text_color": null
      }
     },
     "5ff9a8f46ca44b74bbb41b536593eaea": {
      "model_module": "@jupyter-widgets/controls",
      "model_module_version": "2.0.0",
      "model_name": "TextStyleModel",
      "state": {
       "description_width": "",
       "font_size": null,
       "text_color": null
      }
     },
     "60afc8ac38144fef84e221d6668a5e56": {
      "model_module": "@jupyter-widgets/base",
      "model_module_version": "2.0.0",
      "model_name": "LayoutModel",
      "state": {}
     },
     "6115be6dd8cb44d389acf8da2eb9a164": {
      "model_module": "@jupyter-widgets/controls",
      "model_module_version": "2.0.0",
      "model_name": "HBoxModel",
      "state": {
       "children": [
        "IPY_MODEL_4096158a985f4b73ac38fd7a67a6b4c6",
        "IPY_MODEL_f9c7d8b332a94e0dbab57a7a77364d7d",
        "IPY_MODEL_a13fa19efd904c27ac6173dfc1f1ae2b",
        "IPY_MODEL_abdc79c4d0664857988637332dfe8ee6",
        "IPY_MODEL_a6a7a5fe0bdc4dd6b375a8cf6b210233"
       ],
       "layout": "IPY_MODEL_c8d9cb52f1264548aae4774671961c11"
      }
     },
     "64683dfdf0524019a206b123d63af9a4": {
      "model_module": "@jupyter-widgets/controls",
      "model_module_version": "2.0.0",
      "model_name": "TextModel",
      "state": {
       "description": "Polygon?",
       "layout": "IPY_MODEL_52ab6010f3c245adbe87f66394a2a90f",
       "style": "IPY_MODEL_a5ced87a02f14e3d828342e1b744db5b",
       "value": "FALSE"
      }
     },
     "65256af9de8a4b69a801200faba91313": {
      "model_module": "@jupyter-widgets/controls",
      "model_module_version": "2.0.0",
      "model_name": "ButtonModel",
      "state": {
       "description": "Strip tags",
       "layout": "IPY_MODEL_9541b23f79864da180f2c3a74f1c9f60",
       "style": "IPY_MODEL_fb7e3f8e24ca4194b30a11cfa51fac50",
       "tooltip": null
      }
     },
     "683c76e6770e4149b162fe17a8c07f4d": {
      "model_module": "@jupyter-widgets/controls",
      "model_module_version": "2.0.0",
      "model_name": "TextStyleModel",
      "state": {
       "description_width": "",
       "font_size": null,
       "text_color": null
      }
     },
     "683f1aefc6034f07a889e8d81741f46b": {
      "model_module": "@jupyter-widgets/controls",
      "model_module_version": "2.0.0",
      "model_name": "TextModel",
      "state": {
       "description": "c",
       "layout": "IPY_MODEL_fa86af85915b47f79403b0b2981c8e55",
       "style": "IPY_MODEL_3d44fd0e0de1429ebb00915393f97ebd",
       "value": "three"
      }
     },
     "6975877aa7c54df79359174bb71f33cc": {
      "model_module": "@jupyter-widgets/controls",
      "model_module_version": "2.0.0",
      "model_name": "ButtonStyleModel",
      "state": {
       "button_color": "yellow",
       "font_family": null,
       "font_size": null,
       "font_style": null,
       "font_variant": null,
       "font_weight": null,
       "text_color": null,
       "text_decoration": null
      }
     },
     "698767f544cb4356bd89156e7aaf7494": {
      "model_module": "@jupyter-widgets/controls",
      "model_module_version": "2.0.0",
      "model_name": "HTMLStyleModel",
      "state": {
       "description_width": "",
       "font_size": null,
       "text_color": null
      }
     },
     "69e6584f33594b9eb61d6742399c2ee0": {
      "model_module": "@jupyter-widgets/controls",
      "model_module_version": "2.0.0",
      "model_name": "ButtonModel",
      "state": {
       "description": "Image Widths?",
       "layout": "IPY_MODEL_c954a17df6dd4b548b41d69a7417fd38",
       "style": "IPY_MODEL_11fb10ac903f4c5e8a387b5cb2fe7e4f",
       "tooltip": null
      }
     },
     "6bae8c4c7503444596a9059fe2f45b62": {
      "model_module": "@jupyter-widgets/controls",
      "model_module_version": "2.0.0",
      "model_name": "TextStyleModel",
      "state": {
       "description_width": "",
       "font_size": null,
       "text_color": null
      }
     },
     "6d6ce535544a42d8ba5f657b11b84749": {
      "model_module": "@jupyter-widgets/base",
      "model_module_version": "2.0.0",
      "model_name": "LayoutModel",
      "state": {}
     },
     "6e8c5059cecf41f7bb0ce0ce18d7c1ff": {
      "model_module": "@jupyter-widgets/controls",
      "model_module_version": "2.0.0",
      "model_name": "TextStyleModel",
      "state": {
       "description_width": "",
       "font_size": null,
       "text_color": null
      }
     },
     "71ac0c738dfe4982abfd4d68f651bced": {
      "model_module": "@jupyter-widgets/controls",
      "model_module_version": "2.0.0",
      "model_name": "ButtonStyleModel",
      "state": {
       "font_family": null,
       "font_size": null,
       "font_style": null,
       "font_variant": null,
       "font_weight": null,
       "text_color": null,
       "text_decoration": null
      }
     },
     "734b5b4bc92c4f3cbb890b4ec5ea4bf3": {
      "model_module": "@jupyter-widgets/controls",
      "model_module_version": "2.0.0",
      "model_name": "FileUploadModel",
      "state": {
       "accept": "image/*",
       "description": "New Image to Cloudinary?",
       "description_allow_html": false,
       "layout": "IPY_MODEL_8fb8fca8fe924c2c9471ee9eea1b7e9e",
       "style": "IPY_MODEL_738005373835466a9c02c172f44b3385"
      }
     },
     "738005373835466a9c02c172f44b3385": {
      "model_module": "@jupyter-widgets/controls",
      "model_module_version": "2.0.0",
      "model_name": "ButtonStyleModel",
      "state": {
       "font_family": null,
       "font_size": null,
       "font_style": null,
       "font_variant": null,
       "font_weight": null,
       "text_color": null,
       "text_decoration": null
      }
     },
     "75ea9476bd594e8095fbe91d0da3359a": {
      "model_module": "@jupyter-widgets/base",
      "model_module_version": "2.0.0",
      "model_name": "LayoutModel",
      "state": {}
     },
     "7702f3bb69904124b9e6cb718ecfb7d2": {
      "model_module": "@jupyter-widgets/base",
      "model_module_version": "2.0.0",
      "model_name": "LayoutModel",
      "state": {}
     },
     "780e6ab311834718963a66abcbb847bc": {
      "model_module": "@jupyter-widgets/controls",
      "model_module_version": "2.0.0",
      "model_name": "TextModel",
      "state": {
       "description": "PNamePlus",
       "layout": "IPY_MODEL_41be1a22c30c4bae992058b695fb7713",
       "style": "IPY_MODEL_a11113c1803a4f82aaab951b51cddc05",
       "value": "🌈 Australia:Natural Sequence Farming"
      }
     },
     "78c898eceb68430ba6004d9003619034": {
      "model_module": "@jupyter-widgets/controls",
      "model_module_version": "2.0.0",
      "model_name": "TextStyleModel",
      "state": {
       "description_width": "",
       "font_size": null,
       "text_color": null
      }
     },
     "7982e2298a29408cba44c33241735aa0": {
      "model_module": "@jupyter-widgets/controls",
      "model_module_version": "2.0.0",
      "model_name": "TextStyleModel",
      "state": {
       "description_width": "",
       "font_size": null,
       "text_color": null
      }
     },
     "7a8738a862a04af09ab6bdc9da0d5cc2": {
      "model_module": "@jupyter-widgets/controls",
      "model_module_version": "2.0.0",
      "model_name": "HBoxModel",
      "state": {
       "children": [
        "IPY_MODEL_734b5b4bc92c4f3cbb890b4ec5ea4bf3",
        "IPY_MODEL_7b5b88fb7b204522aa7b96aaa4412586"
       ],
       "layout": "IPY_MODEL_8a8a54c1e0d346aaa3948405ee1f7f4f"
      }
     },
     "7b53cdf90654495fb93fe1a7f5875f1a": {
      "model_module": "@jupyter-widgets/base",
      "model_module_version": "2.0.0",
      "model_name": "LayoutModel",
      "state": {
       "width": "30%"
      }
     },
     "7b5b88fb7b204522aa7b96aaa4412586": {
      "model_module": "@jupyter-widgets/controls",
      "model_module_version": "2.0.0",
      "model_name": "TextModel",
      "state": {
       "layout": "IPY_MODEL_52fe2ac24f7049998caa5866fbce01f0",
       "style": "IPY_MODEL_0a0b11da54f2486e90de7928b1a28647",
       "value": "        copy uploaded image URL from here"
      }
     },
     "809d7307f80f42ce9130d085b28072d2": {
      "model_module": "@jupyter-widgets/base",
      "model_module_version": "2.0.0",
      "model_name": "LayoutModel",
      "state": {}
     },
     "80b3e8d956104f3f84b91d8feab07790": {
      "model_module": "@jupyter-widgets/controls",
      "model_module_version": "2.0.0",
      "model_name": "TextStyleModel",
      "state": {
       "description_width": "",
       "font_size": null,
       "text_color": null
      }
     },
     "80d6529dbf8c48ba85a2e3508b043566": {
      "model_module": "@jupyter-widgets/base",
      "model_module_version": "2.0.0",
      "model_name": "LayoutModel",
      "state": {}
     },
     "81bd1d3354734d1d8180dc2ee1c719a3": {
      "model_module": "@jupyter-widgets/base",
      "model_module_version": "2.0.0",
      "model_name": "LayoutModel",
      "state": {}
     },
     "86390b4965714a85b3958b05ba2d8471": {
      "model_module": "@jupyter-widgets/base",
      "model_module_version": "2.0.0",
      "model_name": "LayoutModel",
      "state": {}
     },
     "8715107988d14b308d3de0676b2b173a": {
      "model_module": "@jupyter-widgets/controls",
      "model_module_version": "2.0.0",
      "model_name": "TextStyleModel",
      "state": {
       "description_width": "",
       "font_size": null,
       "text_color": null
      }
     },
     "881033ba49344cf892d4dbe47333254b": {
      "model_module": "@jupyter-widgets/base",
      "model_module_version": "2.0.0",
      "model_name": "LayoutModel",
      "state": {
       "width": "10%"
      }
     },
     "881059aecf78442382297d2ad5655bee": {
      "model_module": "@jupyter-widgets/base",
      "model_module_version": "2.0.0",
      "model_name": "LayoutModel",
      "state": {}
     },
     "88a0ff2297a447df98ee57e2a9b5d8c5": {
      "model_module": "@jupyter-widgets/controls",
      "model_module_version": "2.0.0",
      "model_name": "TextStyleModel",
      "state": {
       "description_width": "",
       "font_size": null,
       "text_color": null
      }
     },
     "890ce9cf2e2143a1a06ca50110abe7db": {
      "model_module": "@jupyter-widgets/base",
      "model_module_version": "2.0.0",
      "model_name": "LayoutModel",
      "state": {}
     },
     "8940dc867bdf487586584fc855c7368f": {
      "model_module": "@jupyter-widgets/controls",
      "model_module_version": "2.0.0",
      "model_name": "ButtonStyleModel",
      "state": {
       "button_color": "yellow",
       "font_family": null,
       "font_size": null,
       "font_style": null,
       "font_variant": null,
       "font_weight": null,
       "text_color": null,
       "text_decoration": null
      }
     },
     "89960997e23c4524a2c0faba91af1e73": {
      "model_module": "@jupyter-widgets/controls",
      "model_module_version": "2.0.0",
      "model_name": "TextModel",
      "state": {
       "description": "Source:",
       "layout": "IPY_MODEL_d432629e51224ba59799a20ace7e3ea5",
       "style": "IPY_MODEL_3cbaced575c14ab8a8043880c5852466",
       "value": "https://www.nsfarming.com/"
      }
     },
     "8a8a54c1e0d346aaa3948405ee1f7f4f": {
      "model_module": "@jupyter-widgets/base",
      "model_module_version": "2.0.0",
      "model_name": "LayoutModel",
      "state": {}
     },
     "8c7453a7a3f14e009dac99051d3a681d": {
      "model_module": "@jupyter-widgets/base",
      "model_module_version": "2.0.0",
      "model_name": "LayoutModel",
      "state": {}
     },
     "8fb8fca8fe924c2c9471ee9eea1b7e9e": {
      "model_module": "@jupyter-widgets/base",
      "model_module_version": "2.0.0",
      "model_name": "LayoutModel",
      "state": {
       "width": "40%"
      }
     },
     "92d933af96234615ab76123f0f8a98ea": {
      "model_module": "@jupyter-widgets/controls",
      "model_module_version": "2.0.0",
      "model_name": "TextStyleModel",
      "state": {
       "description_width": "",
       "font_size": null,
       "text_color": null
      }
     },
     "93bfc7218ecc4a1899393b60e148cd80": {
      "model_module": "@jupyter-widgets/base",
      "model_module_version": "2.0.0",
      "model_name": "LayoutModel",
      "state": {}
     },
     "9541b23f79864da180f2c3a74f1c9f60": {
      "model_module": "@jupyter-widgets/base",
      "model_module_version": "2.0.0",
      "model_name": "LayoutModel",
      "state": {}
     },
     "96eb64fc455e4c6aa34122a51e7a38dc": {
      "model_module": "@jupyter-widgets/controls",
      "model_module_version": "2.0.0",
      "model_name": "ButtonModel",
      "state": {
       "description": "Capture WYSIWYG",
       "layout": "IPY_MODEL_d3089446c14043d68fc020f2840110ae",
       "style": "IPY_MODEL_cb8e9f21e98b444895ec61c908a1aed7",
       "tooltip": null
      }
     },
     "979e475be7a742d2ab0f136fa85a03ae": {
      "model_module": "@jupyter-widgets/controls",
      "model_module_version": "2.0.0",
      "model_name": "TextModel",
      "state": {
       "description": "Coords. checked?",
       "layout": "IPY_MODEL_ddc425512c374586a2908a883be555df",
       "style": "IPY_MODEL_8715107988d14b308d3de0676b2b173a",
       "value": "FALSE"
      }
     },
     "99b4eca6e9794736a038f8022f32f627": {
      "model_module": "@jupyter-widgets/base",
      "model_module_version": "2.0.0",
      "model_name": "LayoutModel",
      "state": {}
     },
     "9a4554f03cd741f8b83baf354c700779": {
      "model_module": "@jupyter-widgets/base",
      "model_module_version": "2.0.0",
      "model_name": "LayoutModel",
      "state": {}
     },
     "9d0524c98fa1437b8cc2fc1fba72ca48": {
      "model_module": "@jupyter-widgets/base",
      "model_module_version": "2.0.0",
      "model_name": "LayoutModel",
      "state": {}
     },
     "9dc16ff474b446e7a858c8d6c76bd6d8": {
      "model_module": "@jupyter-widgets/base",
      "model_module_version": "2.0.0",
      "model_name": "LayoutModel",
      "state": {}
     },
     "9f5261f848614d20bfd7a81408475c49": {
      "model_module": "@jupyter-widgets/controls",
      "model_module_version": "2.0.0",
      "model_name": "TextModel",
      "state": {
       "description": "b",
       "layout": "IPY_MODEL_1ef4bfa05c5849f0b775ae2e30edf231",
       "style": "IPY_MODEL_88a0ff2297a447df98ee57e2a9b5d8c5",
       "value": "two"
      }
     },
     "a11113c1803a4f82aaab951b51cddc05": {
      "model_module": "@jupyter-widgets/controls",
      "model_module_version": "2.0.0",
      "model_name": "TextStyleModel",
      "state": {
       "description_width": "",
       "font_size": null,
       "text_color": null
      }
     },
     "a13fa19efd904c27ac6173dfc1f1ae2b": {
      "model_module": "@jupyter-widgets/controls",
      "model_module_version": "2.0.0",
      "model_name": "TextModel",
      "state": {
       "layout": "IPY_MODEL_d02186b5d9a840169f8fa41ebe727e3c",
       "style": "IPY_MODEL_1a79891e3b8f4194a8fff97804303ec9"
      }
     },
     "a3eeb283b39d491da92c9e56fd1e0bc2": {
      "model_module": "@jupyter-widgets/controls",
      "model_module_version": "2.0.0",
      "model_name": "TextModel",
      "state": {
       "description": "ObjectId2",
       "layout": "IPY_MODEL_9dc16ff474b446e7a858c8d6c76bd6d8",
       "style": "IPY_MODEL_6bae8c4c7503444596a9059fe2f45b62",
       "value": "1"
      }
     },
     "a52bdd2c17b74e9a82c55a43a67bf063": {
      "model_module": "@jupyter-widgets/controls",
      "model_module_version": "2.0.0",
      "model_name": "VBoxModel",
      "state": {
       "children": [
        "IPY_MODEL_da0a7f8fcd5c4dadb4b93a216e67c0f3",
        "IPY_MODEL_a6d8defa199b42d1a23524f5b31f39d6",
        "IPY_MODEL_1537c597c9f0424aa7ec9de5fcc73397",
        "IPY_MODEL_d60bdb67af1745bd92557352b566aec7",
        "IPY_MODEL_c6794517dbdc4668aa149c1fec9fec22",
        "IPY_MODEL_b2c4a6f114614de083d9cdd179082af1",
        "IPY_MODEL_2be9f72e125449a99fc903f54d4f432b",
        "IPY_MODEL_3bcb4183a4dc4e02b9445511589ffe1e",
        "IPY_MODEL_335f8bd3d02f4936b8cff3f13f8a8edd",
        "IPY_MODEL_3de67aeb97fe4063bb3a3959d76f7a33",
        "IPY_MODEL_c64147b765b2419e9dc471c7122f8bb8",
        "IPY_MODEL_e7d8195191e24bf985cfbe7c44fb132e",
        "IPY_MODEL_dc34ecb2214e43d692d250fbaf0eb81d",
        "IPY_MODEL_36878bab332d46dc85c7b38a79d7be07",
        "IPY_MODEL_0d23e14ba8994a158940e0c60daefdc7",
        "IPY_MODEL_780e6ab311834718963a66abcbb847bc",
        "IPY_MODEL_52eeffb166f2495481a2fb677792c438",
        "IPY_MODEL_1d056ee372054e03995222817d74e03b",
        "IPY_MODEL_d38b231cc92249d8b2aa8a6c75ef1558",
        "IPY_MODEL_cecd82c72c1f4ec2afe8525a1d17e267",
        "IPY_MODEL_a3eeb283b39d491da92c9e56fd1e0bc2",
        "IPY_MODEL_332ea40743884627ba734c891cdd0f6f",
        "IPY_MODEL_0c96084d56774770a31364910f8ae7e0",
        "IPY_MODEL_aefb03a0a604417bbdbcdf18d87c65ce",
        "IPY_MODEL_64683dfdf0524019a206b123d63af9a4",
        "IPY_MODEL_979e475be7a742d2ab0f136fa85a03ae",
        "IPY_MODEL_426e5a24e18a42d388c33c733cef2e78",
        "IPY_MODEL_12d4ec7b0241418f9554cb9d322995c1",
        "IPY_MODEL_1f651bc5943b4f88a0a8bdd0df5ba8af"
       ],
       "layout": "IPY_MODEL_3e3e5c20976145e5bd4798bd6166ff5d"
      }
     },
     "a5ced87a02f14e3d828342e1b744db5b": {
      "model_module": "@jupyter-widgets/controls",
      "model_module_version": "2.0.0",
      "model_name": "TextStyleModel",
      "state": {
       "description_width": "",
       "font_size": null,
       "text_color": null
      }
     },
     "a6a7a5fe0bdc4dd6b375a8cf6b210233": {
      "model_module": "@jupyter-widgets/controls",
      "model_module_version": "2.0.0",
      "model_name": "TextareaModel",
      "state": {
       "layout": "IPY_MODEL_7b53cdf90654495fb93fe1a7f5875f1a",
       "style": "IPY_MODEL_5ecdde5612884e68a917f55b57784ba3"
      }
     },
     "a6d8defa199b42d1a23524f5b31f39d6": {
      "model_module": "@jupyter-widgets/controls",
      "model_module_version": "2.0.0",
      "model_name": "TextModel",
      "state": {
       "description": "Source",
       "layout": "IPY_MODEL_f82afe92cc2f4dc48c2e1fbb15883489",
       "style": "IPY_MODEL_0196feb761194bd494f115466ddb42b6",
       "value": "https://www.nsfarming.com/"
      }
     },
     "a81da39e605c4759b13c30a635db3f1e": {
      "model_module": "@jupyter-widgets/base",
      "model_module_version": "2.0.0",
      "model_name": "LayoutModel",
      "state": {}
     },
     "a9c9b42b0fa7478e80c61c6608c1f5e8": {
      "model_module": "@jupyter-widgets/controls",
      "model_module_version": "2.0.0",
      "model_name": "ButtonModel",
      "state": {
       "description": "Max = 1213;  Inc?",
       "layout": "IPY_MODEL_2ab9c3767f1f49829bd7238e8a887915",
       "style": "IPY_MODEL_71ac0c738dfe4982abfd4d68f651bced",
       "tooltip": null
      }
     },
     "aa6990c43c014590b450b29ca289b6f7": {
      "model_module": "@jupyter-widgets/base",
      "model_module_version": "2.0.0",
      "model_name": "LayoutModel",
      "state": {}
     },
     "ab3881ddae6a49188272472f17d13983": {
      "model_module": "@jupyter-widgets/controls",
      "model_module_version": "2.0.0",
      "model_name": "ButtonStyleModel",
      "state": {
       "button_color": "lightyellow",
       "font_family": null,
       "font_size": null,
       "font_style": null,
       "font_variant": null,
       "font_weight": null,
       "text_color": null,
       "text_decoration": null
      }
     },
     "abdc79c4d0664857988637332dfe8ee6": {
      "model_module": "@jupyter-widgets/controls",
      "model_module_version": "2.0.0",
      "model_name": "ButtonModel",
      "state": {
       "description": "Image Sources?",
       "layout": "IPY_MODEL_b0c3d605863f4f7aa8bf083519106477",
       "style": "IPY_MODEL_214394af7e4140b490fcae67ce5c3284",
       "tooltip": null
      }
     },
     "aefb03a0a604417bbdbcdf18d87c65ce": {
      "model_module": "@jupyter-widgets/controls",
      "model_module_version": "2.0.0",
      "model_name": "TextModel",
      "state": {
       "description": "Contacted?",
       "layout": "IPY_MODEL_81bd1d3354734d1d8180dc2ee1c719a3",
       "style": "IPY_MODEL_7982e2298a29408cba44c33241735aa0",
       "value": "FALSE"
      }
     },
     "af158bfb23ef4569a5bd13428538a039": {
      "model_module": "@jupyter-widgets/controls",
      "model_module_version": "2.0.0",
      "model_name": "TextStyleModel",
      "state": {
       "description_width": "",
       "font_size": null,
       "text_color": null
      }
     },
     "b0224cf5330a4003b5ee7d5cd0960b89": {
      "model_module": "@jupyter-widgets/controls",
      "model_module_version": "2.0.0",
      "model_name": "TextStyleModel",
      "state": {
       "description_width": "",
       "font_size": null,
       "text_color": null
      }
     },
     "b0c3d605863f4f7aa8bf083519106477": {
      "model_module": "@jupyter-widgets/base",
      "model_module_version": "2.0.0",
      "model_name": "LayoutModel",
      "state": {}
     },
     "b118229c8ee1485a916ee7f642f84ac5": {
      "model_module": "@jupyter-widgets/base",
      "model_module_version": "2.0.0",
      "model_name": "LayoutModel",
      "state": {
       "height": "1000px",
       "width": "40%"
      }
     },
     "b2c4a6f114614de083d9cdd179082af1": {
      "model_module": "@jupyter-widgets/controls",
      "model_module_version": "2.0.0",
      "model_name": "TextModel",
      "state": {
       "description": "Approved",
       "layout": "IPY_MODEL_2a2d90f549cf4071ac7861f95e3ddc12",
       "style": "IPY_MODEL_0ae9335d1a6944e1985ad51d8bc0f2d9"
      }
     },
     "b4b066e89f0d4277a9318b2a241d5566": {
      "model_module": "@jupyter-widgets/controls",
      "model_module_version": "2.0.0",
      "model_name": "ButtonStyleModel",
      "state": {
       "button_color": "lightyellow",
       "font_family": null,
       "font_size": null,
       "font_style": null,
       "font_variant": null,
       "font_weight": null,
       "text_color": null,
       "text_decoration": null
      }
     },
     "b51e31b2655f4e2a846a5de5bfb4c59f": {
      "model_module": "@jupyter-widgets/base",
      "model_module_version": "2.0.0",
      "model_name": "LayoutModel",
      "state": {}
     },
     "ba42faad436a4c8fae7f8dc7e86336ef": {
      "model_module": "@jupyter-widgets/output",
      "model_module_version": "1.0.0",
      "model_name": "OutputModel",
      "state": {
       "layout": "IPY_MODEL_ed064672e9f04d62a5379efc1aa63706"
      }
     },
     "ba4dbdc38f074f038748616567a197cc": {
      "model_module": "@jupyter-widgets/base",
      "model_module_version": "2.0.0",
      "model_name": "LayoutModel",
      "state": {}
     },
     "c2c7dfaaca6b4af98fccf005a2cf6400": {
      "model_module": "@jupyter-widgets/base",
      "model_module_version": "2.0.0",
      "model_name": "LayoutModel",
      "state": {}
     },
     "c64147b765b2419e9dc471c7122f8bb8": {
      "model_module": "@jupyter-widgets/controls",
      "model_module_version": "2.0.0",
      "model_name": "TextModel",
      "state": {
       "description": "Longitude",
       "layout": "IPY_MODEL_c83638f952a64f61a189ab626b418e5a",
       "style": "IPY_MODEL_46e57573716647fb8c1a1709c51a5758",
       "value": "150.2027"
      }
     },
     "c6794517dbdc4668aa149c1fec9fec22": {
      "model_module": "@jupyter-widgets/controls",
      "model_module_version": "2.0.0",
      "model_name": "TextModel",
      "state": {
       "description": "Dominant Type",
       "layout": "IPY_MODEL_d9cc85074c7d4f21bcab422f5086da61",
       "style": "IPY_MODEL_b0224cf5330a4003b5ee7d5cd0960b89"
      }
     },
     "c6ff6b1540e84ee7b1c433335683f745": {
      "model_module": "@jupyter-widgets/base",
      "model_module_version": "2.0.0",
      "model_name": "LayoutModel",
      "state": {}
     },
     "c71ae08d12344cd99c287549bd5a9c24": {
      "model_module": "@jupyter-widgets/controls",
      "model_module_version": "2.0.0",
      "model_name": "BoundedIntTextModel",
      "state": {
       "disabled": true,
       "layout": "IPY_MODEL_cfc3f56fe2de47939ae2e4efcccecf01",
       "max": 1213,
       "min": 1,
       "style": "IPY_MODEL_3439c0adb05e4126b76be27e67866366",
       "value": 2
      }
     },
     "c83638f952a64f61a189ab626b418e5a": {
      "model_module": "@jupyter-widgets/base",
      "model_module_version": "2.0.0",
      "model_name": "LayoutModel",
      "state": {}
     },
     "c8d9cb52f1264548aae4774671961c11": {
      "model_module": "@jupyter-widgets/base",
      "model_module_version": "2.0.0",
      "model_name": "LayoutModel",
      "state": {}
     },
     "c954a17df6dd4b548b41d69a7417fd38": {
      "model_module": "@jupyter-widgets/base",
      "model_module_version": "2.0.0",
      "model_name": "LayoutModel",
      "state": {}
     },
     "cb8e9f21e98b444895ec61c908a1aed7": {
      "model_module": "@jupyter-widgets/controls",
      "model_module_version": "2.0.0",
      "model_name": "ButtonStyleModel",
      "state": {
       "font_family": null,
       "font_size": null,
       "font_style": null,
       "font_variant": null,
       "font_weight": null,
       "text_color": null,
       "text_decoration": null
      }
     },
     "cecd82c72c1f4ec2afe8525a1d17e267": {
      "model_module": "@jupyter-widgets/controls",
      "model_module_version": "2.0.0",
      "model_name": "TextModel",
      "state": {
       "description": "y",
       "layout": "IPY_MODEL_f65c82b9758e47728457f9efd2186f63",
       "style": "IPY_MODEL_6e8c5059cecf41f7bb0ce0ce18d7c1ff"
      }
     },
     "cfc3f56fe2de47939ae2e4efcccecf01": {
      "model_module": "@jupyter-widgets/base",
      "model_module_version": "2.0.0",
      "model_name": "LayoutModel",
      "state": {
       "width": "60%"
      }
     },
     "d02186b5d9a840169f8fa41ebe727e3c": {
      "model_module": "@jupyter-widgets/base",
      "model_module_version": "2.0.0",
      "model_name": "LayoutModel",
      "state": {}
     },
     "d2f3caba88b14bddbe45039c5b9a3f65": {
      "model_module": "@jupyter-widgets/base",
      "model_module_version": "2.0.0",
      "model_name": "LayoutModel",
      "state": {
       "width": "10%"
      }
     },
     "d3089446c14043d68fc020f2840110ae": {
      "model_module": "@jupyter-widgets/base",
      "model_module_version": "2.0.0",
      "model_name": "LayoutModel",
      "state": {}
     },
     "d38b231cc92249d8b2aa8a6c75ef1558": {
      "model_module": "@jupyter-widgets/controls",
      "model_module_version": "2.0.0",
      "model_name": "TextModel",
      "state": {
       "description": "x",
       "layout": "IPY_MODEL_aa6990c43c014590b450b29ca289b6f7",
       "style": "IPY_MODEL_af158bfb23ef4569a5bd13428538a039"
      }
     },
     "d432629e51224ba59799a20ace7e3ea5": {
      "model_module": "@jupyter-widgets/base",
      "model_module_version": "2.0.0",
      "model_name": "LayoutModel",
      "state": {}
     },
     "d60bdb67af1745bd92557352b566aec7": {
      "model_module": "@jupyter-widgets/controls",
      "model_module_version": "2.0.0",
      "model_name": "TextModel",
      "state": {
       "description": "Type",
       "layout": "IPY_MODEL_39fa3bf802054d0384d0f176ddcc9346",
       "style": "IPY_MODEL_4837a4b9f1e146b683379bae4fecda53"
      }
     },
     "d63079b4310c40ebbe9e1ab881649f5e": {
      "model_module": "@jupyter-widgets/base",
      "model_module_version": "2.0.0",
      "model_name": "LayoutModel",
      "state": {
       "height": "1000px",
       "width": "40%"
      }
     },
     "d9cc85074c7d4f21bcab422f5086da61": {
      "model_module": "@jupyter-widgets/base",
      "model_module_version": "2.0.0",
      "model_name": "LayoutModel",
      "state": {}
     },
     "da0a7f8fcd5c4dadb4b93a216e67c0f3": {
      "model_module": "@jupyter-widgets/controls",
      "model_module_version": "2.0.0",
      "model_name": "TextModel",
      "state": {
       "description": "Project Name",
       "layout": "IPY_MODEL_93bfc7218ecc4a1899393b60e148cd80",
       "style": "IPY_MODEL_584ab87e303f451bb5a5da1942e2dfd6",
       "value": "Australia:Natural Sequence Farming"
      }
     },
     "db09d2e81c834a66aae6b21595a5c5c5": {
      "model_module": "@jupyter-widgets/controls",
      "model_module_version": "2.0.0",
      "model_name": "TextStyleModel",
      "state": {
       "description_width": "",
       "font_size": null,
       "text_color": null
      }
     },
     "db1fd04b57ec42b88c28183469732ad5": {
      "model_module": "@jupyter-widgets/controls",
      "model_module_version": "2.0.0",
      "model_name": "TextStyleModel",
      "state": {
       "description_width": "",
       "font_size": null,
       "text_color": null
      }
     },
     "dc34ecb2214e43d692d250fbaf0eb81d": {
      "model_module": "@jupyter-widgets/controls",
      "model_module_version": "2.0.0",
      "model_name": "TextModel",
      "state": {
       "description": "GER Hall of Fame",
       "layout": "IPY_MODEL_dfeffb3ba1e14c82833dba862c27ecff",
       "style": "IPY_MODEL_5c912fcc152443cb80fb886a474a18c0"
      }
     },
     "ddc425512c374586a2908a883be555df": {
      "model_module": "@jupyter-widgets/base",
      "model_module_version": "2.0.0",
      "model_name": "LayoutModel",
      "state": {}
     },
     "df98ff56fa0848a69d99796fd8c5e9a9": {
      "model_module": "@jupyter-widgets/base",
      "model_module_version": "2.0.0",
      "model_name": "LayoutModel",
      "state": {}
     },
     "dfeffb3ba1e14c82833dba862c27ecff": {
      "model_module": "@jupyter-widgets/base",
      "model_module_version": "2.0.0",
      "model_name": "LayoutModel",
      "state": {}
     },
     "e5c13232c2cd4b47b8ab88bf030dbff0": {
      "model_module": "@jupyter-widgets/controls",
      "model_module_version": "2.0.0",
      "model_name": "HBoxModel",
      "state": {
       "children": [
        "IPY_MODEL_09b9a8c15840451ea0c5fdaf0397e820",
        "IPY_MODEL_a9c9b42b0fa7478e80c61c6608c1f5e8",
        "IPY_MODEL_1493413e048f4e638d6f354a3d6b77f0"
       ],
       "layout": "IPY_MODEL_46018ef2a7e2406d8f7168faa1893ced"
      }
     },
     "e7494ec284034396800b72cacb47c399": {
      "model_module": "@jupyter-widgets/controls",
      "model_module_version": "2.0.0",
      "model_name": "TextStyleModel",
      "state": {
       "description_width": "",
       "font_size": null,
       "text_color": null
      }
     },
     "e7d8195191e24bf985cfbe7c44fb132e": {
      "model_module": "@jupyter-widgets/controls",
      "model_module_version": "2.0.0",
      "model_name": "TextModel",
      "state": {
       "description": "Social/Web",
       "layout": "IPY_MODEL_8c7453a7a3f14e009dac99051d3a681d",
       "style": "IPY_MODEL_80b3e8d956104f3f84b91d8feab07790",
       "value": "1"
      }
     },
     "e97909ebe121490bb820471a486ddff4": {
      "model_module": "@jupyter-widgets/controls",
      "model_module_version": "2.0.0",
      "model_name": "HTMLModel",
      "state": {
       "layout": "IPY_MODEL_d63079b4310c40ebbe9e1ab881649f5e",
       "style": "IPY_MODEL_698767f544cb4356bd89156e7aaf7494",
       "value": "<img src=http://res.cloudinary.com/e-nable-org/image/upload/v1673370279/Australia:Natural_Sequence_FarmingThumbnails.jpg align=right width='25%'/><h2>Australia:Natural Sequence Farming</h2><h4>Batehaven, New South Whales, Australia</h4><img src=http://res.cloudinary.com/e-nable-org/image/upload/v1673370280/Australia:Natural_Sequence_FarmingPicture.jpg width=100%></img>\n[('San Francisco', '37.7790262', '-122.419906'),\n ('San Francisco', '37.7790262', '-122.419906'),\n ('Alphabet', '37.3398646', '-121.8844823'),\n ('the United States', '29.6330078', '-97.98859404468138'),\n ('Slack', '53.6537065', '-1.876206'),\n ('East Palo Alto', '37.4688273', '-122.141075'),\n ('Calif.', '36.7014631', '-118.755997')]<button style=\"background-color: lightgreen; width: 100%;\">https://www.nsfarming.com/</button>"
      }
     },
     "e9b6ac8cf7a24e4d8daed47d6f1f58fd": {
      "model_module": "@jupyter-widgets/controls",
      "model_module_version": "2.0.0",
      "model_name": "TextStyleModel",
      "state": {
       "description_width": "",
       "font_size": null,
       "text_color": null
      }
     },
     "ec4cc56047314decbbce906065d71fbc": {
      "model_module": "@jupyter-widgets/controls",
      "model_module_version": "2.0.0",
      "model_name": "ButtonModel",
      "state": {
       "description": "+",
       "disabled": true,
       "layout": "IPY_MODEL_881033ba49344cf892d4dbe47333254b",
       "style": "IPY_MODEL_8940dc867bdf487586584fc855c7368f",
       "tooltip": null
      }
     },
     "ed064672e9f04d62a5379efc1aa63706": {
      "model_module": "@jupyter-widgets/base",
      "model_module_version": "2.0.0",
      "model_name": "LayoutModel",
      "state": {}
     },
     "edfb85e046894c2b9d76d25f2180c9d1": {
      "model_module": "@jupyter-widgets/controls",
      "model_module_version": "2.0.0",
      "model_name": "ButtonModel",
      "state": {
       "description": "Run checks?",
       "layout": "IPY_MODEL_c6ff6b1540e84ee7b1c433335683f745",
       "style": "IPY_MODEL_58acdc0b882f43dd8a9f3339452b1cb2",
       "tooltip": null
      }
     },
     "f1e8a593b5f24c3eb27d10a04938ca9a": {
      "model_module": "@jupyter-widgets/controls",
      "model_module_version": "2.0.0",
      "model_name": "HBoxModel",
      "state": {
       "children": [
        "IPY_MODEL_5b551e14070c48eca0b7823ade50930d",
        "IPY_MODEL_89960997e23c4524a2c0faba91af1e73",
        "IPY_MODEL_96eb64fc455e4c6aa34122a51e7a38dc",
        "IPY_MODEL_65256af9de8a4b69a801200faba91313",
        "IPY_MODEL_5f492b9366fd4513a362a1c2e24d04d3"
       ],
       "layout": "IPY_MODEL_2d00231b391446a9ad2b2810a6c49118"
      }
     },
     "f5b7e3c32afd4509af05888015a7f578": {
      "model_module": "@jupyter-widgets/controls",
      "model_module_version": "2.0.0",
      "model_name": "ButtonStyleModel",
      "state": {
       "font_family": null,
       "font_size": null,
       "font_style": null,
       "font_variant": null,
       "font_weight": null,
       "text_color": null,
       "text_decoration": null
      }
     },
     "f65c82b9758e47728457f9efd2186f63": {
      "model_module": "@jupyter-widgets/base",
      "model_module_version": "2.0.0",
      "model_name": "LayoutModel",
      "state": {}
     },
     "f82afe92cc2f4dc48c2e1fbb15883489": {
      "model_module": "@jupyter-widgets/base",
      "model_module_version": "2.0.0",
      "model_name": "LayoutModel",
      "state": {}
     },
     "f9c7d8b332a94e0dbab57a7a77364d7d": {
      "model_module": "@jupyter-widgets/controls",
      "model_module_version": "2.0.0",
      "model_name": "ButtonModel",
      "state": {
       "description": "Revert",
       "layout": "IPY_MODEL_ba4dbdc38f074f038748616567a197cc",
       "style": "IPY_MODEL_b4b066e89f0d4277a9318b2a241d5566",
       "tooltip": null
      }
     },
     "fa86af85915b47f79403b0b2981c8e55": {
      "model_module": "@jupyter-widgets/base",
      "model_module_version": "2.0.0",
      "model_name": "LayoutModel",
      "state": {}
     },
     "fb7e3f8e24ca4194b30a11cfa51fac50": {
      "model_module": "@jupyter-widgets/controls",
      "model_module_version": "2.0.0",
      "model_name": "ButtonStyleModel",
      "state": {
       "font_family": null,
       "font_size": null,
       "font_style": null,
       "font_variant": null,
       "font_weight": null,
       "text_color": null,
       "text_decoration": null
      }
     },
     "fbc35682fd9d462ab42546073b387f93": {
      "model_module": "@jupyter-widgets/base",
      "model_module_version": "2.0.0",
      "model_name": "LayoutModel",
      "state": {
       "height": "1000px",
       "width": "40%"
      }
     },
     "fd1e01e04fde430191ae3c95dd8e463c": {
      "model_module": "@jupyter-widgets/base",
      "model_module_version": "2.0.0",
      "model_name": "LayoutModel",
      "state": {}
     },
     "ff48c123ed2649bfb6fdd2992b8be7eb": {
      "model_module": "@jupyter-widgets/controls",
      "model_module_version": "2.0.0",
      "model_name": "TextStyleModel",
      "state": {
       "description_width": "",
       "font_size": null,
       "text_color": null
      }
     }
    },
    "version_major": 2,
    "version_minor": 0
   }
  }
 },
 "nbformat": 4,
 "nbformat_minor": 5
}
